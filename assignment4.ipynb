{
 "cells": [
  {
   "cell_type": "markdown",
   "metadata": {
    "collapsed": true
   },
   "source": [
    "## 1"
   ]
  },
  {
   "cell_type": "code",
   "execution_count": 1,
   "metadata": {
    "collapsed": true
   },
   "outputs": [],
   "source": [
    "tosses = \"251326344212463366565535614566523665561326345621443235213263461435421\""
   ]
  },
  {
   "cell_type": "code",
   "execution_count": 4,
   "metadata": {
    "collapsed": false
   },
   "outputs": [
    {
     "data": {
      "text/plain": [
       "2"
      ]
     },
     "execution_count": 4,
     "metadata": {},
     "output_type": "execute_result"
    }
   ],
   "source": [
    "# 数字の出し方\n",
    "int(tosses[0])"
   ]
  },
  {
   "cell_type": "code",
   "execution_count": 5,
   "metadata": {
    "collapsed": false
   },
   "outputs": [
    {
     "data": {
      "text/plain": [
       "69"
      ]
     },
     "execution_count": 5,
     "metadata": {},
     "output_type": "execute_result"
    }
   ],
   "source": [
    "len(tosses)"
   ]
  },
  {
   "cell_type": "code",
   "execution_count": 6,
   "metadata": {
    "collapsed": true
   },
   "outputs": [],
   "source": [
    "prob_loaded = {\"1\": 1/12, \"2\": 1/12, \"3\": 1/12, \"4\": 1/12, \"5\":1/3, \"6\":1/3} \n",
    "prob_fair = {\"1\":1/6, \"2\":1/6, \"3\":1/6, \"4\":1/6, \"5\":1/6, \"6\":1/6}"
   ]
  },
  {
   "cell_type": "code",
   "execution_count": 11,
   "metadata": {
    "collapsed": false
   },
   "outputs": [
    {
     "data": {
      "text/plain": [
       "0.29999999999999999"
      ]
     },
     "execution_count": 11,
     "metadata": {},
     "output_type": "execute_result"
    }
   ],
   "source": [
    "import numpy as np\n",
    "transition = np.array([[0.8, 0.3], [0.2, 0.7]])\n",
    "transition[0,1]"
   ]
  },
  {
   "cell_type": "code",
   "execution_count": 17,
   "metadata": {
    "collapsed": false
   },
   "outputs": [
    {
     "name": "stdout",
     "output_type": "stream",
     "text": [
      "[ 0.  0.  0.  0.  0.  0.  0.  0.  0.  0.  0.  0.  0.  0.  0.  0.  0.  0.\n",
      "  1.  1.  1.  1.  1.  1.  1.  1.  0.  0.  1.  1.  1.  1.  0.  0.  1.  1.\n",
      "  1.  1.  1.  0.  0.  0.  0.  0.  0.  0.  0.  0.  0.  0.  0.  0.  0.  0.\n",
      "  0.  0.  0.  0.  0.  0.  0.  0.  0.  0.  0.  0.  0.  0.  0.]\n"
     ]
    }
   ],
   "source": [
    "# 初期は半々の確率でloaded/ fair\n",
    "import numpy as np\n",
    "\n",
    "tosses = \"251326344212463366565535614566523665561326345621443235213263461435421\"\n",
    "prob_loaded = {\"1\": 1/12, \"2\": 1/12, \"3\": 1/12, \"4\": 1/12, \"5\":1/3, \"6\":1/3} \n",
    "prob_fair = {\"1\":1/6, \"2\":1/6, \"3\":1/6, \"4\":1/6, \"5\":1/6, \"6\":1/6}\n",
    "\n",
    "score_loaded = np.ones(len(tosses))\n",
    "score_fair = np.ones(len(tosses))\n",
    "\n",
    "score_loaded[0] = 0.5 * prob_loaded[tosses[0]]\n",
    "score_fair[0] = 0.5 * prob_fair[tosses[0]]\n",
    "\n",
    "for i in range(1,len(tosses)):\n",
    "    score_loaded[i] = max(score_loaded[i-1] * transition[1,1], score_fair[i-1] * transition[1,0]) * prob_loaded[tosses[i]]\n",
    "    score_fair[i] = max(score_loaded[i-1] * transition[0,1], score_fair[i-1] * transition[0,0]) * prob_fair[tosses[i]]\n",
    "\n",
    "state_estimation = np.ones(len(tosses))\n",
    "for n, j in enumerate(score_loaded - score_fair):\n",
    "    if j < 0:\n",
    "        state_estimation[n] = 0\n",
    "\n",
    "print(state_estimation)"
   ]
  },
  {
   "cell_type": "markdown",
   "metadata": {},
   "source": [
    "### 関数にしちゃう"
   ]
  },
  {
   "cell_type": "code",
   "execution_count": 1,
   "metadata": {
    "collapsed": false
   },
   "outputs": [],
   "source": [
    "import numpy as np\n",
    "\n",
    "def vitervi(transition):\n",
    "    tosses = \"251326344212463366565535614566523665561326345621443235213263461435421\"\n",
    "    prob_loaded = {\"1\": 1/12, \"2\": 1/12, \"3\": 1/12, \"4\": 1/12, \"5\":1/3, \"6\":1/3} \n",
    "    prob_fair = {\"1\":1/6, \"2\":1/6, \"3\":1/6, \"4\":1/6, \"5\":1/6, \"6\":1/6}\n",
    "    score_loaded = np.ones(len(tosses))\n",
    "    score_fair = np.ones(len(tosses))\n",
    "    score_loaded[0] = 0.5 * prob_loaded[tosses[0]]\n",
    "    score_fair[0] = 0.5 * prob_fair[tosses[0]]\n",
    "    \n",
    "    for i in range(1,len(tosses)):\n",
    "        score_loaded[i] = max(score_loaded[i-1] * transition[1,1], score_fair[i-1] * transition[1,0]) * prob_loaded[tosses[i]]\n",
    "        score_fair[i] = max(score_loaded[i-1] * transition[0,1], score_fair[i-1] * transition[0,0]) * prob_fair[tosses[i]]\n",
    "\n",
    "    state_estimation = np.ones(len(tosses))\n",
    "    for n, j in enumerate(score_loaded - score_fair):\n",
    "        if j < 0:\n",
    "            state_estimation[n] = 0\n",
    "            \n",
    "    return(state_estimation)"
   ]
  },
  {
   "cell_type": "code",
   "execution_count": 2,
   "metadata": {
    "collapsed": false
   },
   "outputs": [],
   "source": [
    "transition1 = np.array([[0.8, 0.3], [0.2, 0.7]])\n",
    "transition2 = np.array([[0.9, 0.15], [0.1, 0.85]])\n",
    "transition3 = np.array([[0.95, 0.05], [0.6, 0.4]])\n",
    "transition4 = np.array([[0.5, 0.5], [0.5, 0.5]])"
   ]
  },
  {
   "cell_type": "code",
   "execution_count": 3,
   "metadata": {
    "collapsed": false
   },
   "outputs": [
    {
     "data": {
      "text/plain": [
       "array([ 0.,  0.,  0.,  0.,  0.,  0.,  0.,  0.,  0.,  0.,  0.,  0.,  0.,\n",
       "        0.,  0.,  0.,  0.,  0.,  1.,  1.,  1.,  1.,  1.,  1.,  1.,  1.,\n",
       "        0.,  0.,  1.,  1.,  1.,  1.,  0.,  0.,  1.,  1.,  1.,  1.,  1.,\n",
       "        0.,  0.,  0.,  0.,  0.,  0.,  0.,  0.,  0.,  0.,  0.,  0.,  0.,\n",
       "        0.,  0.,  0.,  0.,  0.,  0.,  0.,  0.,  0.,  0.,  0.,  0.,  0.,\n",
       "        0.,  0.,  0.,  0.])"
      ]
     },
     "execution_count": 3,
     "metadata": {},
     "output_type": "execute_result"
    }
   ],
   "source": [
    "vitervi(transition1)"
   ]
  },
  {
   "cell_type": "code",
   "execution_count": 4,
   "metadata": {
    "collapsed": false
   },
   "outputs": [
    {
     "data": {
      "text/plain": [
       "array([ 0.,  0.,  0.,  0.,  0.,  0.,  0.,  0.,  0.,  0.,  0.,  0.,  0.,\n",
       "        0.,  0.,  0.,  0.,  0.,  0.,  1.,  1.,  1.,  1.,  1.,  1.,  1.,\n",
       "        1.,  1.,  1.,  1.,  1.,  1.,  1.,  1.,  1.,  1.,  1.,  1.,  1.,\n",
       "        1.,  0.,  1.,  0.,  0.,  0.,  0.,  0.,  0.,  0.,  0.,  0.,  0.,\n",
       "        0.,  0.,  0.,  0.,  0.,  0.,  0.,  0.,  0.,  0.,  0.,  0.,  0.,\n",
       "        0.,  0.,  0.,  0.])"
      ]
     },
     "execution_count": 4,
     "metadata": {},
     "output_type": "execute_result"
    }
   ],
   "source": [
    "vitervi(transition2)"
   ]
  },
  {
   "cell_type": "code",
   "execution_count": 5,
   "metadata": {
    "collapsed": false
   },
   "outputs": [
    {
     "data": {
      "text/plain": [
       "array([ 0.,  1.,  0.,  0.,  0.,  1.,  0.,  0.,  0.,  0.,  0.,  0.,  0.,\n",
       "        1.,  0.,  0.,  1.,  1.,  1.,  1.,  1.,  1.,  0.,  1.,  1.,  0.,\n",
       "        0.,  1.,  1.,  1.,  1.,  0.,  0.,  1.,  1.,  1.,  1.,  1.,  0.,\n",
       "        0.,  0.,  1.,  0.,  0.,  1.,  1.,  0.,  0.,  0.,  0.,  0.,  0.,\n",
       "        0.,  1.,  0.,  0.,  0.,  0.,  1.,  0.,  0.,  1.,  0.,  0.,  0.,\n",
       "        1.,  0.,  0.,  0.])"
      ]
     },
     "execution_count": 5,
     "metadata": {},
     "output_type": "execute_result"
    }
   ],
   "source": [
    "vitervi(transition3)"
   ]
  },
  {
   "cell_type": "code",
   "execution_count": 6,
   "metadata": {
    "collapsed": false
   },
   "outputs": [
    {
     "data": {
      "text/plain": [
       "array([ 0.,  1.,  0.,  0.,  0.,  1.,  0.,  0.,  0.,  0.,  0.,  0.,  0.,\n",
       "        1.,  0.,  0.,  1.,  1.,  1.,  1.,  1.,  1.,  0.,  1.,  1.,  0.,\n",
       "        0.,  1.,  1.,  1.,  1.,  0.,  0.,  1.,  1.,  1.,  1.,  1.,  0.,\n",
       "        0.,  0.,  1.,  0.,  0.,  1.,  1.,  0.,  0.,  0.,  0.,  0.,  0.,\n",
       "        0.,  1.,  0.,  0.,  0.,  0.,  1.,  0.,  0.,  1.,  0.,  0.,  0.,\n",
       "        1.,  0.,  0.,  0.])"
      ]
     },
     "execution_count": 6,
     "metadata": {},
     "output_type": "execute_result"
    }
   ],
   "source": [
    "vitervi(transition4)"
   ]
  },
  {
   "cell_type": "markdown",
   "metadata": {},
   "source": [
    "## 2"
   ]
  },
  {
   "cell_type": "code",
   "execution_count": 1,
   "metadata": {
    "collapsed": false
   },
   "outputs": [],
   "source": [
    "# Gaussian Hermite quadrature\n",
    "import numpy as np\n",
    "from scipy.special import eval_hermite\n",
    "from scipy.special import hermite\n",
    "from scipy.special import h_roots\n",
    "from scipy.special import he_roots\n",
    "from scipy.stats import norm"
   ]
  },
  {
   "cell_type": "code",
   "execution_count": 26,
   "metadata": {
    "collapsed": false
   },
   "outputs": [
    {
     "data": {
      "text/plain": [
       "14.000000000000004"
      ]
     },
     "execution_count": 26,
     "metadata": {},
     "output_type": "execute_result"
    }
   ],
   "source": [
    "# これで良いのでは\n",
    "eval_hermite(2, 2)"
   ]
  },
  {
   "cell_type": "code",
   "execution_count": 36,
   "metadata": {
    "collapsed": false
   },
   "outputs": [
    {
     "data": {
      "text/plain": [
       "poly1d([ 4.,  0., -2.])"
      ]
     },
     "execution_count": 36,
     "metadata": {},
     "output_type": "execute_result"
    }
   ],
   "source": [
    "hermite(2)"
   ]
  },
  {
   "cell_type": "code",
   "execution_count": 8,
   "metadata": {
    "collapsed": false
   },
   "outputs": [],
   "source": [
    "# こっちを使う\n",
    "# 左側のarrayがsample pointsで、右側のarrayがweights\n",
    "a = h_roots(30)"
   ]
  },
  {
   "cell_type": "code",
   "execution_count": 9,
   "metadata": {
    "collapsed": false
   },
   "outputs": [
    {
     "data": {
      "text/plain": [
       "(array([-6.86334529, -6.13827922, -5.53314715, -4.98891897, -4.48305536,\n",
       "        -4.0039086 , -3.54444387, -3.09997053, -2.66713212, -2.24339147,\n",
       "        -1.82674114, -1.4155278 , -1.00833827, -0.60392106, -0.20112858,\n",
       "         0.20112858,  0.60392106,  1.00833827,  1.4155278 ,  1.82674114,\n",
       "         2.24339147,  2.66713212,  3.09997053,  3.54444387,  4.0039086 ,\n",
       "         4.48305536,  4.98891897,  5.53314715,  6.13827922,  6.86334529]),\n",
       " array([  2.90825470e-21,   2.81033360e-17,   2.87860708e-14,\n",
       "          8.10618630e-12,   9.17858042e-10,   5.10852245e-08,\n",
       "          1.57909489e-06,   2.93872523e-05,   3.48310124e-04,\n",
       "          2.73792247e-03,   1.47038297e-02,   5.51441769e-02,\n",
       "          1.46735848e-01,   2.80130931e-01,   3.86394890e-01,\n",
       "          3.86394890e-01,   2.80130931e-01,   1.46735848e-01,\n",
       "          5.51441769e-02,   1.47038297e-02,   2.73792247e-03,\n",
       "          3.48310124e-04,   2.93872523e-05,   1.57909489e-06,\n",
       "          5.10852245e-08,   9.17858042e-10,   8.10618630e-12,\n",
       "          2.87860708e-14,   2.81033360e-17,   2.90825470e-21]))"
      ]
     },
     "execution_count": 9,
     "metadata": {},
     "output_type": "execute_result"
    }
   ],
   "source": [
    "a"
   ]
  },
  {
   "cell_type": "code",
   "execution_count": 7,
   "metadata": {
    "collapsed": false
   },
   "outputs": [
    {
     "data": {
      "text/plain": [
       "(array([-1.22474487,  0.        ,  1.22474487]),\n",
       " array([ 0.29540898,  1.1816359 ,  0.29540898]))"
      ]
     },
     "execution_count": 7,
     "metadata": {},
     "output_type": "execute_result"
    }
   ],
   "source": [
    "a = h_roots(3)\n",
    "a"
   ]
  },
  {
   "cell_type": "code",
   "execution_count": 8,
   "metadata": {
    "collapsed": false
   },
   "outputs": [
    {
     "data": {
      "text/plain": [
       "array([-1.22474487,  0.        ,  1.22474487])"
      ]
     },
     "execution_count": 8,
     "metadata": {},
     "output_type": "execute_result"
    }
   ],
   "source": [
    "a[0]"
   ]
  },
  {
   "cell_type": "code",
   "execution_count": 3,
   "metadata": {
    "collapsed": false
   },
   "outputs": [
    {
     "data": {
      "text/plain": [
       "1.1816359006036772"
      ]
     },
     "execution_count": 3,
     "metadata": {},
     "output_type": "execute_result"
    }
   ],
   "source": [
    "np.sqrt(np.pi) * 2/3"
   ]
  },
  {
   "cell_type": "code",
   "execution_count": 4,
   "metadata": {
    "collapsed": false
   },
   "outputs": [
    {
     "data": {
      "text/plain": [
       "0.2954089751509193"
      ]
     },
     "execution_count": 4,
     "metadata": {},
     "output_type": "execute_result"
    }
   ],
   "source": [
    "np.sqrt(np.pi)/6"
   ]
  },
  {
   "cell_type": "code",
   "execution_count": 5,
   "metadata": {
    "collapsed": false
   },
   "outputs": [
    {
     "data": {
      "text/plain": [
       "1.2247448713915889"
      ]
     },
     "execution_count": 5,
     "metadata": {},
     "output_type": "execute_result"
    }
   ],
   "source": [
    "np.sqrt(6)/2"
   ]
  },
  {
   "cell_type": "code",
   "execution_count": 45,
   "metadata": {
    "collapsed": false
   },
   "outputs": [
    {
     "data": {
      "text/plain": [
       "0.3989422804014327"
      ]
     },
     "execution_count": 45,
     "metadata": {},
     "output_type": "execute_result"
    }
   ],
   "source": [
    "norm.pdf(0)"
   ]
  },
  {
   "cell_type": "code",
   "execution_count": 17,
   "metadata": {
    "collapsed": true
   },
   "outputs": [],
   "source": [
    "def GH(m):\n",
    "    points = h_roots(m)[0]\n",
    "    weights = h_roots(m)[1]\n",
    "    return sum([weights[i] * np.exp(points[i]**2) * norm.pdf(points[i]) for i in range(len(points))])"
   ]
  },
  {
   "cell_type": "code",
   "execution_count": 18,
   "metadata": {
    "collapsed": false
   },
   "outputs": [
    {
     "data": {
      "text/plain": [
       "0.99684628222456162"
      ]
     },
     "execution_count": 18,
     "metadata": {},
     "output_type": "execute_result"
    }
   ],
   "source": [
    "GH(5)"
   ]
  },
  {
   "cell_type": "code",
   "execution_count": 19,
   "metadata": {
    "collapsed": false
   },
   "outputs": [
    {
     "data": {
      "text/plain": [
       "0.99998763906433263"
      ]
     },
     "execution_count": 19,
     "metadata": {},
     "output_type": "execute_result"
    }
   ],
   "source": [
    "GH(10)"
   ]
  },
  {
   "cell_type": "code",
   "execution_count": 20,
   "metadata": {
    "collapsed": false
   },
   "outputs": [
    {
     "data": {
      "text/plain": [
       "0.99999999979803234"
      ]
     },
     "execution_count": 20,
     "metadata": {},
     "output_type": "execute_result"
    }
   ],
   "source": [
    "GH(20)"
   ]
  },
  {
   "cell_type": "code",
   "execution_count": 21,
   "metadata": {
    "collapsed": false
   },
   "outputs": [
    {
     "data": {
      "text/plain": [
       "0.99999999999999634"
      ]
     },
     "execution_count": 21,
     "metadata": {},
     "output_type": "execute_result"
    }
   ],
   "source": [
    "GH(30)"
   ]
  },
  {
   "cell_type": "code",
   "execution_count": 5,
   "metadata": {
    "collapsed": true
   },
   "outputs": [],
   "source": [
    "def GH_weights(m):\n",
    "    points = h_roots(m)[0]\n",
    "    weights =  h_roots(m)[1]\n",
    "    return [weights[i] * np.exp(points[i]**2) for i in range(len(points))]"
   ]
  },
  {
   "cell_type": "code",
   "execution_count": 6,
   "metadata": {
    "collapsed": false
   },
   "outputs": [
    {
     "data": {
      "text/plain": [
       "[1.1814886255359833,\n",
       " 0.98658099675142807,\n",
       " 0.94530872048294179,\n",
       " 0.98658099675142807,\n",
       " 1.1814886255359833]"
      ]
     },
     "execution_count": 6,
     "metadata": {},
     "output_type": "execute_result"
    }
   ],
   "source": [
    "GH_weights(5)"
   ]
  },
  {
   "cell_type": "code",
   "execution_count": 7,
   "metadata": {
    "collapsed": false
   },
   "outputs": [
    {
     "data": {
      "text/plain": [
       "[1.0254516913657519,\n",
       " 0.82066612640481784,\n",
       " 0.74144193194356545,\n",
       " 0.70329632310490586,\n",
       " 0.6870818539512733,\n",
       " 0.6870818539512733,\n",
       " 0.70329632310490586,\n",
       " 0.74144193194356545,\n",
       " 0.82066612640481784,\n",
       " 1.0254516913657519]"
      ]
     },
     "execution_count": 7,
     "metadata": {},
     "output_type": "execute_result"
    }
   ],
   "source": [
    "GH_weights(10)"
   ]
  },
  {
   "cell_type": "code",
   "execution_count": 8,
   "metadata": {
    "collapsed": false
   },
   "outputs": [
    {
     "data": {
      "text/plain": [
       "[0.89859196145317,\n",
       " 0.70433296117692357,\n",
       " 0.62227869619138665,\n",
       " 0.57526244285250083,\n",
       " 0.54485174236452072,\n",
       " 0.52408035094855054,\n",
       " 0.50967902711745705,\n",
       " 0.49992087133628998,\n",
       " 0.4938433852720529,\n",
       " 0.49092150066674595,\n",
       " 0.49092150066674595,\n",
       " 0.4938433852720529,\n",
       " 0.49992087133628998,\n",
       " 0.50967902711745705,\n",
       " 0.52408035094855054,\n",
       " 0.54485174236452072,\n",
       " 0.57526244285250083,\n",
       " 0.62227869619138665,\n",
       " 0.70433296117692357,\n",
       " 0.89859196145317]"
      ]
     },
     "execution_count": 8,
     "metadata": {},
     "output_type": "execute_result"
    }
   ],
   "source": [
    "GH_weights(20)"
   ]
  },
  {
   "cell_type": "code",
   "execution_count": 9,
   "metadata": {
    "collapsed": false
   },
   "outputs": [
    {
     "data": {
      "text/plain": [
       "[0.83424747101269592,\n",
       " 0.64909798155433118,\n",
       " 0.56940269194957616,\n",
       " 0.52252568933130883,\n",
       " 0.49105799583287552,\n",
       " 0.4683748125647248,\n",
       " 0.451321035991189,\n",
       " 0.43817702265268194,\n",
       " 0.42791806293273793,\n",
       " 0.41989500373682354,\n",
       " 0.41367936361113872,\n",
       " 0.40898157500353133,\n",
       " 0.40560512332568432,\n",
       " 0.40341981692480389,\n",
       " 0.40234606670190304,\n",
       " 0.40234606670190304,\n",
       " 0.40341981692480389,\n",
       " 0.40560512332568432,\n",
       " 0.40898157500353133,\n",
       " 0.41367936361113872,\n",
       " 0.41989500373682354,\n",
       " 0.42791806293273793,\n",
       " 0.43817702265268194,\n",
       " 0.451321035991189,\n",
       " 0.4683748125647248,\n",
       " 0.49105799583287552,\n",
       " 0.52252568933130883,\n",
       " 0.56940269194957616,\n",
       " 0.64909798155433118,\n",
       " 0.83424747101269592]"
      ]
     },
     "execution_count": 9,
     "metadata": {},
     "output_type": "execute_result"
    }
   ],
   "source": [
    "GH_weights( 30)"
   ]
  },
  {
   "cell_type": "markdown",
   "metadata": {},
   "source": [
    "## 3\n",
    "\n",
    "jacobiはわからんクネ？\n",
    "\n",
    "レポートには重みとかの計算も書こう"
   ]
  },
  {
   "cell_type": "code",
   "execution_count": 11,
   "metadata": {
    "collapsed": true
   },
   "outputs": [],
   "source": [
    "import numpy as np\n",
    "from scipy.special import p_roots\n",
    "from scipy.special import u_roots\n",
    "from scipy.special import t_roots"
   ]
  },
  {
   "cell_type": "code",
   "execution_count": 2,
   "metadata": {
    "collapsed": false
   },
   "outputs": [
    {
     "data": {
      "text/plain": [
       "(array([-0.77459667,  0.        ,  0.77459667]),\n",
       " array([ 0.55555556,  0.88888889,  0.55555556]))"
      ]
     },
     "execution_count": 2,
     "metadata": {},
     "output_type": "execute_result"
    }
   ],
   "source": [
    "p_roots(3)"
   ]
  },
  {
   "cell_type": "code",
   "execution_count": 4,
   "metadata": {
    "collapsed": false
   },
   "outputs": [
    {
     "data": {
      "text/plain": [
       "0.7745966692414834"
      ]
     },
     "execution_count": 4,
     "metadata": {},
     "output_type": "execute_result"
    }
   ],
   "source": [
    "np.sqrt(3/5)"
   ]
  },
  {
   "cell_type": "code",
   "execution_count": 5,
   "metadata": {
    "collapsed": true
   },
   "outputs": [],
   "source": [
    "def f(x):\n",
    "    return (x**9) / np.sqrt(x**2 + 1)"
   ]
  },
  {
   "cell_type": "code",
   "execution_count": 11,
   "metadata": {
    "collapsed": true
   },
   "outputs": [],
   "source": [
    "def GL(m, a, b):\n",
    "    points = p_roots(m)[0]\n",
    "    weights = p_roots(m)[1]\n",
    "    return (b-a)*sum([weights[i]*f((b-a)*points[i]/2 + (b+a)/2)  for i in range(len(points))])/2"
   ]
  },
  {
   "cell_type": "code",
   "execution_count": 12,
   "metadata": {
    "collapsed": false
   },
   "outputs": [
    {
     "data": {
      "text/plain": [
       "-49.506283813990549"
      ]
     },
     "execution_count": 12,
     "metadata": {},
     "output_type": "execute_result"
    }
   ],
   "source": [
    "GL(5, -2, 1)"
   ]
  },
  {
   "cell_type": "code",
   "execution_count": 12,
   "metadata": {
    "collapsed": false
   },
   "outputs": [
    {
     "data": {
      "text/plain": [
       "(array([-0.90617985, -0.53846931,  0.        ,  0.53846931,  0.90617985]),\n",
       " array([ 0.23692689,  0.47862867,  0.56888889,  0.47862867,  0.23692689]))"
      ]
     },
     "execution_count": 12,
     "metadata": {},
     "output_type": "execute_result"
    }
   ],
   "source": [
    "p_roots(5)"
   ]
  },
  {
   "cell_type": "code",
   "execution_count": 15,
   "metadata": {
    "collapsed": false
   },
   "outputs": [],
   "source": [
    "def Cheby1(m, a, b):\n",
    "    points = t_roots(m)[0]\n",
    "    weights = t_roots(m)[1]\n",
    "    return (b-a)*sum([weights[i]*np.sqrt(1-(points[i])**2) * f((b-a)*points[i]/2 + (b+a)/2)  for i in range(len(points))])/2"
   ]
  },
  {
   "cell_type": "code",
   "execution_count": 16,
   "metadata": {
    "collapsed": false
   },
   "outputs": [
    {
     "data": {
      "text/plain": [
       "-57.161045874594777"
      ]
     },
     "execution_count": 16,
     "metadata": {},
     "output_type": "execute_result"
    }
   ],
   "source": [
    "Cheby1(5, -2, 1)"
   ]
  },
  {
   "cell_type": "code",
   "execution_count": 13,
   "metadata": {
    "collapsed": false
   },
   "outputs": [
    {
     "data": {
      "text/plain": [
       "(array([ -9.51056516e-01,  -5.87785252e-01,   6.12323400e-17,\n",
       "          5.87785252e-01,   9.51056516e-01]),\n",
       " array([ 0.62831853,  0.62831853,  0.62831853,  0.62831853,  0.62831853]))"
      ]
     },
     "execution_count": 13,
     "metadata": {},
     "output_type": "execute_result"
    }
   ],
   "source": [
    "t_roots(5)"
   ]
  },
  {
   "cell_type": "code",
   "execution_count": 17,
   "metadata": {
    "collapsed": true
   },
   "outputs": [],
   "source": [
    "def Cheby2(m, a, b):\n",
    "    points = u_roots(m)[0]\n",
    "    weights = u_roots(m)[1]\n",
    "    return (b-a)*sum([(weights[i]/np.sqrt(1-(points[i])**2)) * f((b-a)*points[i]/2 + (b+a)/2)  for i in range(len(points))])/2"
   ]
  },
  {
   "cell_type": "code",
   "execution_count": 18,
   "metadata": {
    "collapsed": false
   },
   "outputs": [
    {
     "data": {
      "text/plain": [
       "-40.789633611622008"
      ]
     },
     "execution_count": 18,
     "metadata": {},
     "output_type": "execute_result"
    }
   ],
   "source": [
    "Cheby2(5, -2, 1)"
   ]
  },
  {
   "cell_type": "code",
   "execution_count": 14,
   "metadata": {
    "collapsed": false
   },
   "outputs": [
    {
     "data": {
      "text/plain": [
       "(array([ -8.66025404e-01,  -5.00000000e-01,   6.12323400e-17,\n",
       "          5.00000000e-01,   8.66025404e-01]),\n",
       " array([ 0.13089969,  0.39269908,  0.52359878,  0.39269908,  0.13089969]))"
      ]
     },
     "execution_count": 14,
     "metadata": {},
     "output_type": "execute_result"
    }
   ],
   "source": [
    "u_roots(5)"
   ]
  },
  {
   "cell_type": "markdown",
   "metadata": {},
   "source": [
    "m = 10の時"
   ]
  },
  {
   "cell_type": "code",
   "execution_count": 20,
   "metadata": {
    "collapsed": false
   },
   "outputs": [
    {
     "data": {
      "text/plain": [
       "-49.493963006199031"
      ]
     },
     "execution_count": 20,
     "metadata": {},
     "output_type": "execute_result"
    }
   ],
   "source": [
    "GL(10, -2, 1)"
   ]
  },
  {
   "cell_type": "code",
   "execution_count": 15,
   "metadata": {
    "collapsed": false
   },
   "outputs": [
    {
     "data": {
      "text/plain": [
       "(array([-0.97390653, -0.86506337, -0.67940957, -0.43339539, -0.14887434,\n",
       "         0.14887434,  0.43339539,  0.67940957,  0.86506337,  0.97390653]),\n",
       " array([ 0.06667134,  0.14945135,  0.21908636,  0.26926672,  0.29552422,\n",
       "         0.29552422,  0.26926672,  0.21908636,  0.14945135,  0.06667134]))"
      ]
     },
     "execution_count": 15,
     "metadata": {},
     "output_type": "execute_result"
    }
   ],
   "source": [
    "p_roots(10)"
   ]
  },
  {
   "cell_type": "code",
   "execution_count": 21,
   "metadata": {
    "collapsed": false
   },
   "outputs": [
    {
     "data": {
      "text/plain": [
       "-50.987455239343021"
      ]
     },
     "execution_count": 21,
     "metadata": {},
     "output_type": "execute_result"
    }
   ],
   "source": [
    "Cheby1(10, -2, 1)"
   ]
  },
  {
   "cell_type": "code",
   "execution_count": 16,
   "metadata": {
    "collapsed": false
   },
   "outputs": [
    {
     "data": {
      "text/plain": [
       "(array([-0.98768834, -0.89100652, -0.70710678, -0.4539905 , -0.15643447,\n",
       "         0.15643447,  0.4539905 ,  0.70710678,  0.89100652,  0.98768834]),\n",
       " array([ 0.31415927,  0.31415927,  0.31415927,  0.31415927,  0.31415927,\n",
       "         0.31415927,  0.31415927,  0.31415927,  0.31415927,  0.31415927]))"
      ]
     },
     "execution_count": 16,
     "metadata": {},
     "output_type": "execute_result"
    }
   ],
   "source": [
    "t_roots(10)"
   ]
  },
  {
   "cell_type": "code",
   "execution_count": 22,
   "metadata": {
    "collapsed": false
   },
   "outputs": [
    {
     "data": {
      "text/plain": [
       "-47.101342989695162"
      ]
     },
     "execution_count": 22,
     "metadata": {},
     "output_type": "execute_result"
    }
   ],
   "source": [
    "Cheby2(10, -2, 1)"
   ]
  },
  {
   "cell_type": "code",
   "execution_count": 17,
   "metadata": {
    "collapsed": false
   },
   "outputs": [
    {
     "data": {
      "text/plain": [
       "(array([-0.95949297, -0.84125353, -0.65486073, -0.41541501, -0.14231484,\n",
       "         0.14231484,  0.41541501,  0.65486073,  0.84125353,  0.95949297]),\n",
       " array([ 0.02266894,  0.08347854,  0.16312218,  0.23631356,  0.27981494,\n",
       "         0.27981494,  0.23631356,  0.16312218,  0.08347854,  0.02266894]))"
      ]
     },
     "execution_count": 17,
     "metadata": {},
     "output_type": "execute_result"
    }
   ],
   "source": [
    "u_roots(10)"
   ]
  },
  {
   "cell_type": "markdown",
   "metadata": {},
   "source": [
    "## 4\n",
    "(p_a, p_b, p_o)\n",
    "\n",
    "とりあえず10回やる"
   ]
  },
  {
   "cell_type": "code",
   "execution_count": 18,
   "metadata": {
    "collapsed": false
   },
   "outputs": [],
   "source": [
    "import numpy as np\n",
    "from scipy.stats import binom\n",
    "\n",
    "n = 25\n",
    "\n",
    "iteration = 100\n",
    "values = np.ones((iteration, 3))\n",
    "initial_value = [1/3, 1/3, 1/3]\n",
    "values[0, :] = initial_value\n",
    "\n",
    "for ite in range(1, iteration):\n",
    "    q_a = (2*values[ite-1, 2]) / (2*values[ite-1, 2] + values[ite-1, 0])\n",
    "    q_b = (2*values[ite-1, 2]) / (2*values[ite-1, 2] + values[ite-1, 1])\n",
    "    under = sum([binom.pmf(i, n, q_a) * binom.pmf(j, n, q_b) * (3*n - i) for i in range(n+1) for j in range(n+1)])\n",
    "    upper = sum([binom.pmf(i, n, q_a) * binom.pmf(j, n, q_b) * (2*n + i + j) for i in range(n+1) for j in range(n+1)])\n",
    "    values[ite, 0] = 1/(2+(upper/under))\n",
    "    values[ite, 1] = 1/(2+(upper/under))\n",
    "    values[ite, 2] = 1 - 2*values[ite, 0]"
   ]
  },
  {
   "cell_type": "code",
   "execution_count": 19,
   "metadata": {
    "collapsed": false
   },
   "outputs": [
    {
     "data": {
      "text/plain": [
       "array([[ 0.33333333,  0.33333333,  0.33333333],\n",
       "       [ 0.29166667,  0.29166667,  0.41666667],\n",
       "       [ 0.28240741,  0.28240741,  0.43518519],\n",
       "       [ 0.28062249,  0.28062249,  0.43875502],\n",
       "       [ 0.28028825,  0.28028825,  0.43942349],\n",
       "       [ 0.28022601,  0.28022601,  0.43954798],\n",
       "       [ 0.28021443,  0.28021443,  0.43957114],\n",
       "       [ 0.28021227,  0.28021227,  0.43957545],\n",
       "       [ 0.28021187,  0.28021187,  0.43957625],\n",
       "       [ 0.2802118 ,  0.2802118 ,  0.4395764 ],\n",
       "       [ 0.28021179,  0.28021179,  0.43957643],\n",
       "       [ 0.28021178,  0.28021178,  0.43957643],\n",
       "       [ 0.28021178,  0.28021178,  0.43957643],\n",
       "       [ 0.28021178,  0.28021178,  0.43957643],\n",
       "       [ 0.28021178,  0.28021178,  0.43957643],\n",
       "       [ 0.28021178,  0.28021178,  0.43957643],\n",
       "       [ 0.28021178,  0.28021178,  0.43957643],\n",
       "       [ 0.28021178,  0.28021178,  0.43957643],\n",
       "       [ 0.28021178,  0.28021178,  0.43957643],\n",
       "       [ 0.28021178,  0.28021178,  0.43957643],\n",
       "       [ 0.28021178,  0.28021178,  0.43957643],\n",
       "       [ 0.28021178,  0.28021178,  0.43957643],\n",
       "       [ 0.28021178,  0.28021178,  0.43957643],\n",
       "       [ 0.28021178,  0.28021178,  0.43957643],\n",
       "       [ 0.28021178,  0.28021178,  0.43957643],\n",
       "       [ 0.28021178,  0.28021178,  0.43957643],\n",
       "       [ 0.28021178,  0.28021178,  0.43957643],\n",
       "       [ 0.28021178,  0.28021178,  0.43957643],\n",
       "       [ 0.28021178,  0.28021178,  0.43957643],\n",
       "       [ 0.28021178,  0.28021178,  0.43957643],\n",
       "       [ 0.28021178,  0.28021178,  0.43957643],\n",
       "       [ 0.28021178,  0.28021178,  0.43957643],\n",
       "       [ 0.28021178,  0.28021178,  0.43957643],\n",
       "       [ 0.28021178,  0.28021178,  0.43957643],\n",
       "       [ 0.28021178,  0.28021178,  0.43957643],\n",
       "       [ 0.28021178,  0.28021178,  0.43957643],\n",
       "       [ 0.28021178,  0.28021178,  0.43957643],\n",
       "       [ 0.28021178,  0.28021178,  0.43957643],\n",
       "       [ 0.28021178,  0.28021178,  0.43957643],\n",
       "       [ 0.28021178,  0.28021178,  0.43957643],\n",
       "       [ 0.28021178,  0.28021178,  0.43957643],\n",
       "       [ 0.28021178,  0.28021178,  0.43957643],\n",
       "       [ 0.28021178,  0.28021178,  0.43957643],\n",
       "       [ 0.28021178,  0.28021178,  0.43957643],\n",
       "       [ 0.28021178,  0.28021178,  0.43957643],\n",
       "       [ 0.28021178,  0.28021178,  0.43957643],\n",
       "       [ 0.28021178,  0.28021178,  0.43957643],\n",
       "       [ 0.28021178,  0.28021178,  0.43957643],\n",
       "       [ 0.28021178,  0.28021178,  0.43957643],\n",
       "       [ 0.28021178,  0.28021178,  0.43957643],\n",
       "       [ 0.28021178,  0.28021178,  0.43957643],\n",
       "       [ 0.28021178,  0.28021178,  0.43957643],\n",
       "       [ 0.28021178,  0.28021178,  0.43957643],\n",
       "       [ 0.28021178,  0.28021178,  0.43957643],\n",
       "       [ 0.28021178,  0.28021178,  0.43957643],\n",
       "       [ 0.28021178,  0.28021178,  0.43957643],\n",
       "       [ 0.28021178,  0.28021178,  0.43957643],\n",
       "       [ 0.28021178,  0.28021178,  0.43957643],\n",
       "       [ 0.28021178,  0.28021178,  0.43957643],\n",
       "       [ 0.28021178,  0.28021178,  0.43957643],\n",
       "       [ 0.28021178,  0.28021178,  0.43957643],\n",
       "       [ 0.28021178,  0.28021178,  0.43957643],\n",
       "       [ 0.28021178,  0.28021178,  0.43957643],\n",
       "       [ 0.28021178,  0.28021178,  0.43957643],\n",
       "       [ 0.28021178,  0.28021178,  0.43957643],\n",
       "       [ 0.28021178,  0.28021178,  0.43957643],\n",
       "       [ 0.28021178,  0.28021178,  0.43957643],\n",
       "       [ 0.28021178,  0.28021178,  0.43957643],\n",
       "       [ 0.28021178,  0.28021178,  0.43957643],\n",
       "       [ 0.28021178,  0.28021178,  0.43957643],\n",
       "       [ 0.28021178,  0.28021178,  0.43957643],\n",
       "       [ 0.28021178,  0.28021178,  0.43957643],\n",
       "       [ 0.28021178,  0.28021178,  0.43957643],\n",
       "       [ 0.28021178,  0.28021178,  0.43957643],\n",
       "       [ 0.28021178,  0.28021178,  0.43957643],\n",
       "       [ 0.28021178,  0.28021178,  0.43957643],\n",
       "       [ 0.28021178,  0.28021178,  0.43957643],\n",
       "       [ 0.28021178,  0.28021178,  0.43957643],\n",
       "       [ 0.28021178,  0.28021178,  0.43957643],\n",
       "       [ 0.28021178,  0.28021178,  0.43957643],\n",
       "       [ 0.28021178,  0.28021178,  0.43957643],\n",
       "       [ 0.28021178,  0.28021178,  0.43957643],\n",
       "       [ 0.28021178,  0.28021178,  0.43957643],\n",
       "       [ 0.28021178,  0.28021178,  0.43957643],\n",
       "       [ 0.28021178,  0.28021178,  0.43957643],\n",
       "       [ 0.28021178,  0.28021178,  0.43957643],\n",
       "       [ 0.28021178,  0.28021178,  0.43957643],\n",
       "       [ 0.28021178,  0.28021178,  0.43957643],\n",
       "       [ 0.28021178,  0.28021178,  0.43957643],\n",
       "       [ 0.28021178,  0.28021178,  0.43957643],\n",
       "       [ 0.28021178,  0.28021178,  0.43957643],\n",
       "       [ 0.28021178,  0.28021178,  0.43957643],\n",
       "       [ 0.28021178,  0.28021178,  0.43957643],\n",
       "       [ 0.28021178,  0.28021178,  0.43957643],\n",
       "       [ 0.28021178,  0.28021178,  0.43957643],\n",
       "       [ 0.28021178,  0.28021178,  0.43957643],\n",
       "       [ 0.28021178,  0.28021178,  0.43957643],\n",
       "       [ 0.28021178,  0.28021178,  0.43957643],\n",
       "       [ 0.28021178,  0.28021178,  0.43957643],\n",
       "       [ 0.28021178,  0.28021178,  0.43957643]])"
      ]
     },
     "execution_count": 19,
     "metadata": {},
     "output_type": "execute_result"
    }
   ],
   "source": [
    "values"
   ]
  },
  {
   "cell_type": "markdown",
   "metadata": {},
   "source": [
    "## 5"
   ]
  },
  {
   "cell_type": "code",
   "execution_count": 1,
   "metadata": {
    "collapsed": false
   },
   "outputs": [],
   "source": [
    "# data generate\n",
    "import numpy as np\n",
    "\n",
    "I = 100\n",
    "J = 2\n",
    "beta_0 = -1\n",
    "beta_1 = 1\n",
    "sigma_u = 0.5\n",
    "sigma_eps = 1\n",
    "\n",
    "np.random.seed(12345)\n",
    "\n",
    "value_x = np.random.normal(0, 1, (I, J))\n",
    "u = np.random.normal(0, sigma_u, I)\n",
    "value_u = np.ones((I, J))\n",
    "value_u[:, 0] = u\n",
    "value_u[:, 1] = u\n",
    "value_eps = np.random.normal(0, sigma_eps, (I, J))\n",
    "value_y = beta_0 + beta_1 * value_x + value_u + value_eps"
   ]
  },
  {
   "cell_type": "code",
   "execution_count": 4,
   "metadata": {
    "collapsed": false
   },
   "outputs": [],
   "source": [
    "# EM algorithm\n",
    "# para = (beta_0, beta_1, sigma_eps, sigma_u)\n",
    "# sigma is variance\n",
    "\n",
    "iteration = 30\n",
    "\n",
    "XY = sum(sum(value_y * value_x))\n",
    "X = sum(sum(value_x))\n",
    "Y = sum(sum(value_y))\n",
    "X_2 = sum(sum(value_x * value_x))\n",
    "\n",
    "def xE(E_t):\n",
    "    return sum(sum(value_x * np.array([E_t, E_t]).T))\n",
    "\n",
    "def eps_right(E_t, beta0, beta1):\n",
    "    return (sum(sum((value_y - beta0-beta1*value_x)**2)) + J * sum(E_t**2) - 2*sum(sum((value_y - beta0 - beta1*value_x) * np.array([E_t, E_t]).T)))/(I*J)\n",
    "\n",
    "initial = [0, 0, 5, 5]\n",
    "E_t = np.ones(I)\n",
    "estimation = np.ones((iteration, 4))\n",
    "estimation[0, :] = initial\n",
    "\n",
    "for ite in range(1,iteration):\n",
    "    u = estimation[ite-1, 3]\n",
    "    eps = estimation[ite-1, 2]\n",
    "    beta0 = estimation[ite-1, 0]\n",
    "    beta1 = estimation[ite-1, 1]\n",
    "    for i in range(I):\n",
    "        E_t[i] = u*sum([value_y[i, j] - beta0 - beta1*value_x[i, j] for j in range(J)]) / (J*u + eps)\n",
    "    V_t = eps*u/(J*u + eps)\n",
    "    estimation[ite, 1] = (I*J *XY - Y*X - J * (I*xE(E_t) - sum(E_t)*X))/(I*J*X_2 - X**2)\n",
    "    estimation[ite, 0] = (Y-beta1*X - J* sum(E_t))/(I*J)\n",
    "    estimation[ite, 2] = V_t + eps_right(E_t, estimation[ite-1, 0], estimation[ite-1, 1])\n",
    "    estimation[ite, 3] = V_t + sum(E_t**2)/I"
   ]
  },
  {
   "cell_type": "code",
   "execution_count": 5,
   "metadata": {
    "collapsed": false,
    "scrolled": false
   },
   "outputs": [
    {
     "data": {
      "text/plain": [
       "array([[ 0.        ,  0.        ,  5.        ,  5.        ],\n",
       "       [-0.34103096,  0.69821925,  3.0020363 ,  2.84446715],\n",
       "       [-0.5763915 ,  0.94938141,  1.73845524,  1.60544487],\n",
       "       [-0.73296693,  1.03770369,  1.22828656,  1.02475626],\n",
       "       [-0.84130281,  1.06991278,  1.04387598,  0.7605353 ],\n",
       "       [-0.91485872,  1.08238322,  0.98469137,  0.62888819],\n",
       "       [-0.96191767,  1.08784075,  0.9719928 ,  0.55478565],\n",
       "       [-0.98998363,  1.09070466,  0.97559875,  0.50833772],\n",
       "       [-1.00567122,  1.09249   ,  0.98397771,  0.47665551],\n",
       "       [-1.01397376,  1.09373702,  0.99288308,  0.45363256],\n",
       "       [-1.01817624,  1.09466499,  1.00094141,  0.43612061],\n",
       "       [-1.02022771,  1.09538145,  1.00786314,  0.42236135],\n",
       "       [-1.02119989,  1.09594868,  1.01371959,  0.41129468],\n",
       "       [-1.0216494 ,  1.09640648,  1.01867035,  0.40223692],\n",
       "       [-1.02185295,  1.0967818 ,  1.02287304,  0.39472257],\n",
       "       [-1.02194347,  1.09709347,  1.02646045,  0.38842106],\n",
       "       [-1.02198306,  1.09735504,  1.02953936,  0.38308996],\n",
       "       [-1.02200009,  1.09757648,  1.03219486,  0.37854681],\n",
       "       [-1.02200728,  1.09776533,  1.03449502,  0.37465139],\n",
       "       [-1.02201023,  1.09792736,  1.0364948 ,  0.37129401],\n",
       "       [-1.02201138,  1.09806711,  1.03823903,  0.36838755],\n",
       "       [-1.02201178,  1.09818816,  1.0397646 ,  0.36586191],\n",
       "       [-1.02201188,  1.09829341,  1.04110215,  0.36366002],\n",
       "       [-1.02201186,  1.09838521,  1.04227732,  0.36173495],\n",
       "       [-1.02201179,  1.09846551,  1.04331173,  0.36004777],\n",
       "       [-1.02201172,  1.09853591,  1.04422369,  0.35856591],\n",
       "       [-1.02201165,  1.09859778,  1.04502884,  0.35726195],\n",
       "       [-1.02201159,  1.09865223,  1.04574057,  0.35611265],\n",
       "       [-1.02201153,  1.09870024,  1.0463704 ,  0.35509822],\n",
       "       [-1.02201148,  1.09874262,  1.0469283 ,  0.3542017 ]])"
      ]
     },
     "execution_count": 5,
     "metadata": {},
     "output_type": "execute_result"
    }
   ],
   "source": [
    "estimation"
   ]
  },
  {
   "cell_type": "code",
   "execution_count": 4,
   "metadata": {
    "collapsed": false
   },
   "outputs": [
    {
     "data": {
      "text/plain": [
       "array([[ 0.        ,  0.        ,  2.23606798,  2.23606798],\n",
       "       [-0.34103096,  0.69821925,  1.73263854,  1.68655482],\n",
       "       [-0.5763915 ,  0.94938141,  1.31850493,  1.26706151],\n",
       "       ..., \n",
       "       [-1.02201107,  1.09907877,  1.02538451,  0.58912061],\n",
       "       [-1.02201107,  1.09907877,  1.02538451,  0.58912061],\n",
       "       [-1.02201107,  1.09907877,  1.02538451,  0.58912061]])"
      ]
     },
     "execution_count": 4,
     "metadata": {},
     "output_type": "execute_result"
    }
   ],
   "source": [
    "# change the last variance into standard deviation\n",
    "estimation[:, 2] = np.sqrt(estimation[:, 2])\n",
    "estimation[:, 3] = np.sqrt(estimation[:, 3])\n",
    "estimation"
   ]
  },
  {
   "cell_type": "markdown",
   "metadata": {
    "collapsed": false
   },
   "source": [
    "## 本当にやりたいのは以下"
   ]
  },
  {
   "cell_type": "code",
   "execution_count": 28,
   "metadata": {
    "collapsed": false
   },
   "outputs": [],
   "source": [
    "import numpy as np\n",
    "\n",
    "I = 100\n",
    "J = 2\n",
    "beta_0 = -1\n",
    "beta_1 = 1\n",
    "sigma_u = 0.5\n",
    "sigma_eps = 1\n",
    "iteration = 30\n",
    "initial = [0, 0, 5, 5]\n",
    "result = []\n",
    "\n",
    "def xE(E_t):\n",
    "    return sum(sum(value_x * np.array([E_t, E_t]).T))\n",
    "\n",
    "def eps_right(E_t, beta0, beta1):\n",
    "    return (sum(sum((value_y - beta0-beta1*value_x)**2)) + J * sum(E_t**2) - 2*sum(sum((value_y - beta0 - beta1*value_x) * np.array([E_t, E_t]).T)))/(I*J)\n",
    "\n",
    "for i in range(500):\n",
    "    \n",
    "    # data generation\n",
    "    np.random.seed(i)\n",
    "    value_x = np.random.normal(0, 1, (I, J))\n",
    "    u = np.random.normal(0, sigma_u, I)\n",
    "    value_u = np.ones((I, J))\n",
    "    value_u[:, 0] = u\n",
    "    value_u[:, 1] = u\n",
    "    value_eps = np.random.normal(0, sigma_eps, (I, J))\n",
    "    value_y = beta_0 + beta_1 * value_x + value_u + value_eps\n",
    "\n",
    "    XY = sum(sum(value_y * value_x))\n",
    "    X = sum(sum(value_x))\n",
    "    Y = sum(sum(value_y))\n",
    "    X_2 = sum(sum(value_x * value_x))\n",
    "\n",
    "    # estimation\n",
    "    E_t = np.ones(I)\n",
    "    estimation = np.ones((iteration, 4))\n",
    "    estimation[0, :] = initial\n",
    "\n",
    "    for ite in range(1,iteration):\n",
    "        u = estimation[ite-1, 3]\n",
    "        eps = estimation[ite-1, 2]\n",
    "        beta0 = estimation[ite-1, 0]\n",
    "        beta1 = estimation[ite-1, 1]\n",
    "        for i in range(I):\n",
    "            E_t[i] = u*sum([value_y[i, j] - beta0 - beta1*value_x[i, j] for j in range(J)]) / (J*u + eps)\n",
    "        V_t = eps*u/(J*u + eps)\n",
    "        estimation[ite, 1] = (I*J *XY - Y*X - J * (I*xE(E_t) - sum(E_t)*X))/(I*J*X_2 - X**2)\n",
    "        estimation[ite, 0] = (Y-beta1*X - J* sum(E_t))/(I*J)\n",
    "        estimation[ite, 2] = V_t + eps_right(E_t, estimation[ite-1, 0], estimation[ite-1, 1])\n",
    "        estimation[ite, 3] = V_t + sum(E_t**2)/I\n",
    "    \n",
    "    a = estimation[iteration-1, :]\n",
    "    result.append(a)\n",
    "    \n",
    "result = np.array(result)\n",
    "\n",
    "# change variances into standard deviations\n",
    "result[:, 2] = np.sqrt(result[:, 2])\n",
    "result[:, 3] = np.sqrt(result[:, 3])\n",
    "\n",
    "bias = np.mean(result, axis = 0) - [-1, 1, 1, 0.5]\n",
    "std = np.std(result, axis = 0)\n",
    "print(bias)\n",
    "print(std)"
   ]
  },
  {
   "cell_type": "code",
   "execution_count": 30,
   "metadata": {
    "collapsed": false
   },
   "outputs": [],
   "source": [
    "result = np.array(result)"
   ]
  },
  {
   "cell_type": "code",
   "execution_count": 35,
   "metadata": {
    "collapsed": false
   },
   "outputs": [],
   "source": [
    "result[:, 2] = np.sqrt(result[:, 2])\n",
    "result[:, 3] = np.sqrt(result[:, 3])"
   ]
  },
  {
   "cell_type": "code",
   "execution_count": 37,
   "metadata": {
    "collapsed": false
   },
   "outputs": [
    {
     "data": {
      "text/plain": [
       "array([-0.00220228, -0.00313101, -0.01689459,  0.00997698])"
      ]
     },
     "execution_count": 37,
     "metadata": {},
     "output_type": "execute_result"
    }
   ],
   "source": [
    "np.mean(result, axis = 0) - [-1, 1, 1, 0.5]"
   ]
  },
  {
   "cell_type": "code",
   "execution_count": 39,
   "metadata": {
    "collapsed": false
   },
   "outputs": [
    {
     "data": {
      "text/plain": [
       "array([ 0.08100258,  0.07864963,  0.06433125,  0.09524904])"
      ]
     },
     "execution_count": 39,
     "metadata": {},
     "output_type": "execute_result"
    }
   ],
   "source": [
    "np.std(result, axis = 0)"
   ]
  },
  {
   "cell_type": "code",
   "execution_count": 20,
   "metadata": {
    "collapsed": false
   },
   "outputs": [
    {
     "data": {
      "text/plain": [
       "array([[1, 2],\n",
       "       [3, 4]])"
      ]
     },
     "execution_count": 20,
     "metadata": {},
     "output_type": "execute_result"
    }
   ],
   "source": [
    "a = np.array([[1,2], [3,4]])\n",
    "a"
   ]
  },
  {
   "cell_type": "code",
   "execution_count": 21,
   "metadata": {
    "collapsed": false
   },
   "outputs": [
    {
     "data": {
      "text/plain": [
       "array([[5, 6],\n",
       "       [3, 4]])"
      ]
     },
     "execution_count": 21,
     "metadata": {},
     "output_type": "execute_result"
    }
   ],
   "source": [
    "a[0, :] = [5,6]\n",
    "a"
   ]
  },
  {
   "cell_type": "code",
   "execution_count": 23,
   "metadata": {
    "collapsed": false
   },
   "outputs": [
    {
     "data": {
      "text/plain": [
       "array([[ 0.,  0.,  0.],\n",
       "       [ 1.,  2.,  3.]])"
      ]
     },
     "execution_count": 23,
     "metadata": {},
     "output_type": "execute_result"
    }
   ],
   "source": [
    "a = np.empty((2,3))\n",
    "a[1, :] = [1,2,3]\n",
    "a"
   ]
  },
  {
   "cell_type": "code",
   "execution_count": null,
   "metadata": {
    "collapsed": true
   },
   "outputs": [],
   "source": []
  }
 ],
 "metadata": {
  "kernelspec": {
   "display_name": "Python 3",
   "language": "python",
   "name": "python3"
  },
  "language_info": {
   "codemirror_mode": {
    "name": "ipython",
    "version": 3
   },
   "file_extension": ".py",
   "mimetype": "text/x-python",
   "name": "python",
   "nbconvert_exporter": "python",
   "pygments_lexer": "ipython3",
   "version": "3.5.1"
  }
 },
 "nbformat": 4,
 "nbformat_minor": 0
}

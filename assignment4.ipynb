{
 "cells": [
  {
   "cell_type": "markdown",
   "metadata": {
    "collapsed": true
   },
   "source": [
    "## 1"
   ]
  },
  {
   "cell_type": "code",
   "execution_count": 1,
   "metadata": {
    "collapsed": true
   },
   "outputs": [],
   "source": [
    "tosses = \"251326344212463366565535614566523665561326345621443235213263461435421\""
   ]
  },
  {
   "cell_type": "code",
   "execution_count": 4,
   "metadata": {
    "collapsed": false
   },
   "outputs": [
    {
     "data": {
      "text/plain": [
       "2"
      ]
     },
     "execution_count": 4,
     "metadata": {},
     "output_type": "execute_result"
    }
   ],
   "source": [
    "# 数字の出し方\n",
    "int(tosses[0])"
   ]
  },
  {
   "cell_type": "code",
   "execution_count": 5,
   "metadata": {
    "collapsed": false
   },
   "outputs": [
    {
     "data": {
      "text/plain": [
       "69"
      ]
     },
     "execution_count": 5,
     "metadata": {},
     "output_type": "execute_result"
    }
   ],
   "source": [
    "len(tosses)"
   ]
  },
  {
   "cell_type": "code",
   "execution_count": 6,
   "metadata": {
    "collapsed": true
   },
   "outputs": [],
   "source": [
    "prob_loaded = {\"1\": 1/12, \"2\": 1/12, \"3\": 1/12, \"4\": 1/12, \"5\":1/3, \"6\":1/3} \n",
    "prob_fair = {\"1\":1/6, \"2\":1/6, \"3\":1/6, \"4\":1/6, \"5\":1/6, \"6\":1/6}"
   ]
  },
  {
   "cell_type": "code",
   "execution_count": 11,
   "metadata": {
    "collapsed": false
   },
   "outputs": [
    {
     "data": {
      "text/plain": [
       "0.29999999999999999"
      ]
     },
     "execution_count": 11,
     "metadata": {},
     "output_type": "execute_result"
    }
   ],
   "source": [
    "import numpy as np\n",
    "transition = np.array([[0.8, 0.3], [0.2, 0.7]])\n",
    "transition[0,1]"
   ]
  },
  {
   "cell_type": "code",
   "execution_count": 17,
   "metadata": {
    "collapsed": false
   },
   "outputs": [
    {
     "name": "stdout",
     "output_type": "stream",
     "text": [
      "[ 0.  0.  0.  0.  0.  0.  0.  0.  0.  0.  0.  0.  0.  0.  0.  0.  0.  0.\n",
      "  1.  1.  1.  1.  1.  1.  1.  1.  0.  0.  1.  1.  1.  1.  0.  0.  1.  1.\n",
      "  1.  1.  1.  0.  0.  0.  0.  0.  0.  0.  0.  0.  0.  0.  0.  0.  0.  0.\n",
      "  0.  0.  0.  0.  0.  0.  0.  0.  0.  0.  0.  0.  0.  0.  0.]\n"
     ]
    }
   ],
   "source": [
    "# 初期は半々の確率でloaded/ fair\n",
    "import numpy as np\n",
    "\n",
    "tosses = \"251326344212463366565535614566523665561326345621443235213263461435421\"\n",
    "prob_loaded = {\"1\": 1/12, \"2\": 1/12, \"3\": 1/12, \"4\": 1/12, \"5\":1/3, \"6\":1/3} \n",
    "prob_fair = {\"1\":1/6, \"2\":1/6, \"3\":1/6, \"4\":1/6, \"5\":1/6, \"6\":1/6}\n",
    "\n",
    "score_loaded = np.ones(len(tosses))\n",
    "score_fair = np.ones(len(tosses))\n",
    "\n",
    "score_loaded[0] = 0.5 * prob_loaded[tosses[0]]\n",
    "score_fair[0] = 0.5 * prob_fair[tosses[0]]\n",
    "\n",
    "for i in range(1,len(tosses)):\n",
    "    score_loaded[i] = max(score_loaded[i-1] * transition[1,1], score_fair[i-1] * transition[1,0]) * prob_loaded[tosses[i]]\n",
    "    score_fair[i] = max(score_loaded[i-1] * transition[0,1], score_fair[i-1] * transition[0,0]) * prob_fair[tosses[i]]\n",
    "\n",
    "state_estimation = np.ones(len(tosses))\n",
    "for n, j in enumerate(score_loaded - score_fair):\n",
    "    if j < 0:\n",
    "        state_estimation[n] = 0\n",
    "\n",
    "print(state_estimation)"
   ]
  },
  {
   "cell_type": "markdown",
   "metadata": {},
   "source": [
    "### 関数にしちゃう"
   ]
  },
  {
   "cell_type": "code",
   "execution_count": 1,
   "metadata": {
    "collapsed": false
   },
   "outputs": [],
   "source": [
    "import numpy as np\n",
    "\n",
    "def vitervi(transition):\n",
    "    tosses = \"251326344212463366565535614566523665561326345621443235213263461435421\"\n",
    "    prob_loaded = {\"1\": 1/12, \"2\": 1/12, \"3\": 1/12, \"4\": 1/12, \"5\":1/3, \"6\":1/3} \n",
    "    prob_fair = {\"1\":1/6, \"2\":1/6, \"3\":1/6, \"4\":1/6, \"5\":1/6, \"6\":1/6}\n",
    "    score_loaded = np.ones(len(tosses))\n",
    "    score_fair = np.ones(len(tosses))\n",
    "    score_loaded[0] = 0.5 * prob_loaded[tosses[0]]\n",
    "    score_fair[0] = 0.5 * prob_fair[tosses[0]]\n",
    "    \n",
    "    for i in range(1,len(tosses)):\n",
    "        score_loaded[i] = max(score_loaded[i-1] * transition[1,1], score_fair[i-1] * transition[1,0]) * prob_loaded[tosses[i]]\n",
    "        score_fair[i] = max(score_loaded[i-1] * transition[0,1], score_fair[i-1] * transition[0,0]) * prob_fair[tosses[i]]\n",
    "\n",
    "    state_estimation = np.ones(len(tosses))\n",
    "    for n, j in enumerate(score_loaded - score_fair):\n",
    "        if j < 0:\n",
    "            state_estimation[n] = 0\n",
    "            \n",
    "    return(state_estimation)"
   ]
  },
  {
   "cell_type": "code",
   "execution_count": 2,
   "metadata": {
    "collapsed": false
   },
   "outputs": [],
   "source": [
    "transition1 = np.array([[0.8, 0.3], [0.2, 0.7]])\n",
    "transition2 = np.array([[0.9, 0.15], [0.1, 0.85]])\n",
    "transition3 = np.array([[0.95, 0.05], [0.6, 0.4]])\n",
    "transition4 = np.array([[0.5, 0.5], [0.5, 0.5]])"
   ]
  },
  {
   "cell_type": "code",
   "execution_count": 3,
   "metadata": {
    "collapsed": false
   },
   "outputs": [
    {
     "data": {
      "text/plain": [
       "array([ 0.,  0.,  0.,  0.,  0.,  0.,  0.,  0.,  0.,  0.,  0.,  0.,  0.,\n",
       "        0.,  0.,  0.,  0.,  0.,  1.,  1.,  1.,  1.,  1.,  1.,  1.,  1.,\n",
       "        0.,  0.,  1.,  1.,  1.,  1.,  0.,  0.,  1.,  1.,  1.,  1.,  1.,\n",
       "        0.,  0.,  0.,  0.,  0.,  0.,  0.,  0.,  0.,  0.,  0.,  0.,  0.,\n",
       "        0.,  0.,  0.,  0.,  0.,  0.,  0.,  0.,  0.,  0.,  0.,  0.,  0.,\n",
       "        0.,  0.,  0.,  0.])"
      ]
     },
     "execution_count": 3,
     "metadata": {},
     "output_type": "execute_result"
    }
   ],
   "source": [
    "vitervi(transition1)"
   ]
  },
  {
   "cell_type": "code",
   "execution_count": 4,
   "metadata": {
    "collapsed": false
   },
   "outputs": [
    {
     "data": {
      "text/plain": [
       "array([ 0.,  0.,  0.,  0.,  0.,  0.,  0.,  0.,  0.,  0.,  0.,  0.,  0.,\n",
       "        0.,  0.,  0.,  0.,  0.,  0.,  1.,  1.,  1.,  1.,  1.,  1.,  1.,\n",
       "        1.,  1.,  1.,  1.,  1.,  1.,  1.,  1.,  1.,  1.,  1.,  1.,  1.,\n",
       "        1.,  0.,  1.,  0.,  0.,  0.,  0.,  0.,  0.,  0.,  0.,  0.,  0.,\n",
       "        0.,  0.,  0.,  0.,  0.,  0.,  0.,  0.,  0.,  0.,  0.,  0.,  0.,\n",
       "        0.,  0.,  0.,  0.])"
      ]
     },
     "execution_count": 4,
     "metadata": {},
     "output_type": "execute_result"
    }
   ],
   "source": [
    "vitervi(transition2)"
   ]
  },
  {
   "cell_type": "code",
   "execution_count": 5,
   "metadata": {
    "collapsed": false
   },
   "outputs": [
    {
     "data": {
      "text/plain": [
       "array([ 0.,  1.,  0.,  0.,  0.,  1.,  0.,  0.,  0.,  0.,  0.,  0.,  0.,\n",
       "        1.,  0.,  0.,  1.,  1.,  1.,  1.,  1.,  1.,  0.,  1.,  1.,  0.,\n",
       "        0.,  1.,  1.,  1.,  1.,  0.,  0.,  1.,  1.,  1.,  1.,  1.,  0.,\n",
       "        0.,  0.,  1.,  0.,  0.,  1.,  1.,  0.,  0.,  0.,  0.,  0.,  0.,\n",
       "        0.,  1.,  0.,  0.,  0.,  0.,  1.,  0.,  0.,  1.,  0.,  0.,  0.,\n",
       "        1.,  0.,  0.,  0.])"
      ]
     },
     "execution_count": 5,
     "metadata": {},
     "output_type": "execute_result"
    }
   ],
   "source": [
    "vitervi(transition3)"
   ]
  },
  {
   "cell_type": "code",
   "execution_count": 6,
   "metadata": {
    "collapsed": false
   },
   "outputs": [
    {
     "data": {
      "text/plain": [
       "array([ 0.,  1.,  0.,  0.,  0.,  1.,  0.,  0.,  0.,  0.,  0.,  0.,  0.,\n",
       "        1.,  0.,  0.,  1.,  1.,  1.,  1.,  1.,  1.,  0.,  1.,  1.,  0.,\n",
       "        0.,  1.,  1.,  1.,  1.,  0.,  0.,  1.,  1.,  1.,  1.,  1.,  0.,\n",
       "        0.,  0.,  1.,  0.,  0.,  1.,  1.,  0.,  0.,  0.,  0.,  0.,  0.,\n",
       "        0.,  1.,  0.,  0.,  0.,  0.,  1.,  0.,  0.,  1.,  0.,  0.,  0.,\n",
       "        1.,  0.,  0.,  0.])"
      ]
     },
     "execution_count": 6,
     "metadata": {},
     "output_type": "execute_result"
    }
   ],
   "source": [
    "vitervi(transition4)"
   ]
  },
  {
   "cell_type": "markdown",
   "metadata": {},
   "source": [
    "## 2"
   ]
  },
  {
   "cell_type": "code",
   "execution_count": 1,
   "metadata": {
    "collapsed": false
   },
   "outputs": [],
   "source": [
    "# Gaussian Hermite quadrature\n",
    "import numpy as np\n",
    "from scipy.special import eval_hermite\n",
    "from scipy.special import hermite\n",
    "from scipy.special import h_roots\n",
    "from scipy.special import he_roots\n",
    "from scipy.stats import norm"
   ]
  },
  {
   "cell_type": "code",
   "execution_count": 26,
   "metadata": {
    "collapsed": false
   },
   "outputs": [
    {
     "data": {
      "text/plain": [
       "14.000000000000004"
      ]
     },
     "execution_count": 26,
     "metadata": {},
     "output_type": "execute_result"
    }
   ],
   "source": [
    "# これで良いのでは\n",
    "eval_hermite(2, 2)"
   ]
  },
  {
   "cell_type": "code",
   "execution_count": 36,
   "metadata": {
    "collapsed": false
   },
   "outputs": [
    {
     "data": {
      "text/plain": [
       "poly1d([ 4.,  0., -2.])"
      ]
     },
     "execution_count": 36,
     "metadata": {},
     "output_type": "execute_result"
    }
   ],
   "source": [
    "hermite(2)"
   ]
  },
  {
   "cell_type": "code",
   "execution_count": 8,
   "metadata": {
    "collapsed": false
   },
   "outputs": [],
   "source": [
    "# こっちを使う\n",
    "# 左側のarrayがsample pointsで、右側のarrayがweights\n",
    "a = h_roots(30)"
   ]
  },
  {
   "cell_type": "code",
   "execution_count": 9,
   "metadata": {
    "collapsed": false
   },
   "outputs": [
    {
     "data": {
      "text/plain": [
       "(array([-6.86334529, -6.13827922, -5.53314715, -4.98891897, -4.48305536,\n",
       "        -4.0039086 , -3.54444387, -3.09997053, -2.66713212, -2.24339147,\n",
       "        -1.82674114, -1.4155278 , -1.00833827, -0.60392106, -0.20112858,\n",
       "         0.20112858,  0.60392106,  1.00833827,  1.4155278 ,  1.82674114,\n",
       "         2.24339147,  2.66713212,  3.09997053,  3.54444387,  4.0039086 ,\n",
       "         4.48305536,  4.98891897,  5.53314715,  6.13827922,  6.86334529]),\n",
       " array([  2.90825470e-21,   2.81033360e-17,   2.87860708e-14,\n",
       "          8.10618630e-12,   9.17858042e-10,   5.10852245e-08,\n",
       "          1.57909489e-06,   2.93872523e-05,   3.48310124e-04,\n",
       "          2.73792247e-03,   1.47038297e-02,   5.51441769e-02,\n",
       "          1.46735848e-01,   2.80130931e-01,   3.86394890e-01,\n",
       "          3.86394890e-01,   2.80130931e-01,   1.46735848e-01,\n",
       "          5.51441769e-02,   1.47038297e-02,   2.73792247e-03,\n",
       "          3.48310124e-04,   2.93872523e-05,   1.57909489e-06,\n",
       "          5.10852245e-08,   9.17858042e-10,   8.10618630e-12,\n",
       "          2.87860708e-14,   2.81033360e-17,   2.90825470e-21]))"
      ]
     },
     "execution_count": 9,
     "metadata": {},
     "output_type": "execute_result"
    }
   ],
   "source": [
    "a"
   ]
  },
  {
   "cell_type": "code",
   "execution_count": 7,
   "metadata": {
    "collapsed": false
   },
   "outputs": [
    {
     "data": {
      "text/plain": [
       "(array([-1.22474487,  0.        ,  1.22474487]),\n",
       " array([ 0.29540898,  1.1816359 ,  0.29540898]))"
      ]
     },
     "execution_count": 7,
     "metadata": {},
     "output_type": "execute_result"
    }
   ],
   "source": [
    "a = h_roots(3)\n",
    "a"
   ]
  },
  {
   "cell_type": "code",
   "execution_count": 8,
   "metadata": {
    "collapsed": false
   },
   "outputs": [
    {
     "data": {
      "text/plain": [
       "array([-1.22474487,  0.        ,  1.22474487])"
      ]
     },
     "execution_count": 8,
     "metadata": {},
     "output_type": "execute_result"
    }
   ],
   "source": [
    "a[0]"
   ]
  },
  {
   "cell_type": "code",
   "execution_count": 3,
   "metadata": {
    "collapsed": false
   },
   "outputs": [
    {
     "data": {
      "text/plain": [
       "1.1816359006036772"
      ]
     },
     "execution_count": 3,
     "metadata": {},
     "output_type": "execute_result"
    }
   ],
   "source": [
    "np.sqrt(np.pi) * 2/3"
   ]
  },
  {
   "cell_type": "code",
   "execution_count": 4,
   "metadata": {
    "collapsed": false
   },
   "outputs": [
    {
     "data": {
      "text/plain": [
       "0.2954089751509193"
      ]
     },
     "execution_count": 4,
     "metadata": {},
     "output_type": "execute_result"
    }
   ],
   "source": [
    "np.sqrt(np.pi)/6"
   ]
  },
  {
   "cell_type": "code",
   "execution_count": 5,
   "metadata": {
    "collapsed": false
   },
   "outputs": [
    {
     "data": {
      "text/plain": [
       "1.2247448713915889"
      ]
     },
     "execution_count": 5,
     "metadata": {},
     "output_type": "execute_result"
    }
   ],
   "source": [
    "np.sqrt(6)/2"
   ]
  },
  {
   "cell_type": "code",
   "execution_count": 45,
   "metadata": {
    "collapsed": false
   },
   "outputs": [
    {
     "data": {
      "text/plain": [
       "0.3989422804014327"
      ]
     },
     "execution_count": 45,
     "metadata": {},
     "output_type": "execute_result"
    }
   ],
   "source": [
    "norm.pdf(0)"
   ]
  },
  {
   "cell_type": "code",
   "execution_count": 17,
   "metadata": {
    "collapsed": true
   },
   "outputs": [],
   "source": [
    "def GH(m):\n",
    "    points = h_roots(m)[0]\n",
    "    weights = h_roots(m)[1]\n",
    "    return sum([weights[i] * np.exp(points[i]**2) * norm.pdf(points[i]) for i in range(len(points))])"
   ]
  },
  {
   "cell_type": "code",
   "execution_count": 18,
   "metadata": {
    "collapsed": false
   },
   "outputs": [
    {
     "data": {
      "text/plain": [
       "0.99684628222456162"
      ]
     },
     "execution_count": 18,
     "metadata": {},
     "output_type": "execute_result"
    }
   ],
   "source": [
    "GH(5)"
   ]
  },
  {
   "cell_type": "code",
   "execution_count": 19,
   "metadata": {
    "collapsed": false
   },
   "outputs": [
    {
     "data": {
      "text/plain": [
       "0.99998763906433263"
      ]
     },
     "execution_count": 19,
     "metadata": {},
     "output_type": "execute_result"
    }
   ],
   "source": [
    "GH(10)"
   ]
  },
  {
   "cell_type": "code",
   "execution_count": 20,
   "metadata": {
    "collapsed": false
   },
   "outputs": [
    {
     "data": {
      "text/plain": [
       "0.99999999979803234"
      ]
     },
     "execution_count": 20,
     "metadata": {},
     "output_type": "execute_result"
    }
   ],
   "source": [
    "GH(20)"
   ]
  },
  {
   "cell_type": "code",
   "execution_count": 21,
   "metadata": {
    "collapsed": false
   },
   "outputs": [
    {
     "data": {
      "text/plain": [
       "0.99999999999999634"
      ]
     },
     "execution_count": 21,
     "metadata": {},
     "output_type": "execute_result"
    }
   ],
   "source": [
    "GH(30)"
   ]
  },
  {
   "cell_type": "code",
   "execution_count": 5,
   "metadata": {
    "collapsed": true
   },
   "outputs": [],
   "source": [
    "def GH_weights(m):\n",
    "    points = h_roots(m)[0]\n",
    "    weights =  h_roots(m)[1]\n",
    "    return [weights[i] * np.exp(points[i]**2) for i in range(len(points))]"
   ]
  },
  {
   "cell_type": "code",
   "execution_count": 6,
   "metadata": {
    "collapsed": false
   },
   "outputs": [
    {
     "data": {
      "text/plain": [
       "[1.1814886255359833,\n",
       " 0.98658099675142807,\n",
       " 0.94530872048294179,\n",
       " 0.98658099675142807,\n",
       " 1.1814886255359833]"
      ]
     },
     "execution_count": 6,
     "metadata": {},
     "output_type": "execute_result"
    }
   ],
   "source": [
    "GH_weights(5)"
   ]
  },
  {
   "cell_type": "code",
   "execution_count": 7,
   "metadata": {
    "collapsed": false
   },
   "outputs": [
    {
     "data": {
      "text/plain": [
       "[1.0254516913657519,\n",
       " 0.82066612640481784,\n",
       " 0.74144193194356545,\n",
       " 0.70329632310490586,\n",
       " 0.6870818539512733,\n",
       " 0.6870818539512733,\n",
       " 0.70329632310490586,\n",
       " 0.74144193194356545,\n",
       " 0.82066612640481784,\n",
       " 1.0254516913657519]"
      ]
     },
     "execution_count": 7,
     "metadata": {},
     "output_type": "execute_result"
    }
   ],
   "source": [
    "GH_weights(10)"
   ]
  },
  {
   "cell_type": "code",
   "execution_count": 8,
   "metadata": {
    "collapsed": false
   },
   "outputs": [
    {
     "data": {
      "text/plain": [
       "[0.89859196145317,\n",
       " 0.70433296117692357,\n",
       " 0.62227869619138665,\n",
       " 0.57526244285250083,\n",
       " 0.54485174236452072,\n",
       " 0.52408035094855054,\n",
       " 0.50967902711745705,\n",
       " 0.49992087133628998,\n",
       " 0.4938433852720529,\n",
       " 0.49092150066674595,\n",
       " 0.49092150066674595,\n",
       " 0.4938433852720529,\n",
       " 0.49992087133628998,\n",
       " 0.50967902711745705,\n",
       " 0.52408035094855054,\n",
       " 0.54485174236452072,\n",
       " 0.57526244285250083,\n",
       " 0.62227869619138665,\n",
       " 0.70433296117692357,\n",
       " 0.89859196145317]"
      ]
     },
     "execution_count": 8,
     "metadata": {},
     "output_type": "execute_result"
    }
   ],
   "source": [
    "GH_weights(20)"
   ]
  },
  {
   "cell_type": "code",
   "execution_count": 9,
   "metadata": {
    "collapsed": false
   },
   "outputs": [
    {
     "data": {
      "text/plain": [
       "[0.83424747101269592,\n",
       " 0.64909798155433118,\n",
       " 0.56940269194957616,\n",
       " 0.52252568933130883,\n",
       " 0.49105799583287552,\n",
       " 0.4683748125647248,\n",
       " 0.451321035991189,\n",
       " 0.43817702265268194,\n",
       " 0.42791806293273793,\n",
       " 0.41989500373682354,\n",
       " 0.41367936361113872,\n",
       " 0.40898157500353133,\n",
       " 0.40560512332568432,\n",
       " 0.40341981692480389,\n",
       " 0.40234606670190304,\n",
       " 0.40234606670190304,\n",
       " 0.40341981692480389,\n",
       " 0.40560512332568432,\n",
       " 0.40898157500353133,\n",
       " 0.41367936361113872,\n",
       " 0.41989500373682354,\n",
       " 0.42791806293273793,\n",
       " 0.43817702265268194,\n",
       " 0.451321035991189,\n",
       " 0.4683748125647248,\n",
       " 0.49105799583287552,\n",
       " 0.52252568933130883,\n",
       " 0.56940269194957616,\n",
       " 0.64909798155433118,\n",
       " 0.83424747101269592]"
      ]
     },
     "execution_count": 9,
     "metadata": {},
     "output_type": "execute_result"
    }
   ],
   "source": [
    "GH_weights( 30)"
   ]
  },
  {
   "cell_type": "markdown",
   "metadata": {},
   "source": [
    "## 3\n",
    "\n",
    "jacobiはわからんクネ？\n",
    "\n",
    "レポートには重みとかの計算も書こう"
   ]
  },
  {
   "cell_type": "code",
   "execution_count": 11,
   "metadata": {
    "collapsed": true
   },
   "outputs": [],
   "source": [
    "import numpy as np\n",
    "from scipy.special import p_roots\n",
    "from scipy.special import u_roots\n",
    "from scipy.special import t_roots"
   ]
  },
  {
   "cell_type": "code",
   "execution_count": 2,
   "metadata": {
    "collapsed": false
   },
   "outputs": [
    {
     "data": {
      "text/plain": [
       "(array([-0.77459667,  0.        ,  0.77459667]),\n",
       " array([ 0.55555556,  0.88888889,  0.55555556]))"
      ]
     },
     "execution_count": 2,
     "metadata": {},
     "output_type": "execute_result"
    }
   ],
   "source": [
    "p_roots(3)"
   ]
  },
  {
   "cell_type": "code",
   "execution_count": 4,
   "metadata": {
    "collapsed": false
   },
   "outputs": [
    {
     "data": {
      "text/plain": [
       "0.7745966692414834"
      ]
     },
     "execution_count": 4,
     "metadata": {},
     "output_type": "execute_result"
    }
   ],
   "source": [
    "np.sqrt(3/5)"
   ]
  },
  {
   "cell_type": "code",
   "execution_count": 5,
   "metadata": {
    "collapsed": true
   },
   "outputs": [],
   "source": [
    "def f(x):\n",
    "    return (x**9) / np.sqrt(x**2 + 1)"
   ]
  },
  {
   "cell_type": "code",
   "execution_count": 11,
   "metadata": {
    "collapsed": true
   },
   "outputs": [],
   "source": [
    "def GL(m, a, b):\n",
    "    points = p_roots(m)[0]\n",
    "    weights = p_roots(m)[1]\n",
    "    return (b-a)*sum([weights[i]*f((b-a)*points[i]/2 + (b+a)/2)  for i in range(len(points))])/2"
   ]
  },
  {
   "cell_type": "code",
   "execution_count": 12,
   "metadata": {
    "collapsed": false
   },
   "outputs": [
    {
     "data": {
      "text/plain": [
       "-49.506283813990549"
      ]
     },
     "execution_count": 12,
     "metadata": {},
     "output_type": "execute_result"
    }
   ],
   "source": [
    "GL(5, -2, 1)"
   ]
  },
  {
   "cell_type": "code",
   "execution_count": 12,
   "metadata": {
    "collapsed": false
   },
   "outputs": [
    {
     "data": {
      "text/plain": [
       "(array([-0.90617985, -0.53846931,  0.        ,  0.53846931,  0.90617985]),\n",
       " array([ 0.23692689,  0.47862867,  0.56888889,  0.47862867,  0.23692689]))"
      ]
     },
     "execution_count": 12,
     "metadata": {},
     "output_type": "execute_result"
    }
   ],
   "source": [
    "p_roots(5)"
   ]
  },
  {
   "cell_type": "code",
   "execution_count": 15,
   "metadata": {
    "collapsed": false
   },
   "outputs": [],
   "source": [
    "def Cheby1(m, a, b):\n",
    "    points = t_roots(m)[0]\n",
    "    weights = t_roots(m)[1]\n",
    "    return (b-a)*sum([weights[i]*np.sqrt(1-(points[i])**2) * f((b-a)*points[i]/2 + (b+a)/2)  for i in range(len(points))])/2"
   ]
  },
  {
   "cell_type": "code",
   "execution_count": 16,
   "metadata": {
    "collapsed": false
   },
   "outputs": [
    {
     "data": {
      "text/plain": [
       "-57.161045874594777"
      ]
     },
     "execution_count": 16,
     "metadata": {},
     "output_type": "execute_result"
    }
   ],
   "source": [
    "Cheby1(5, -2, 1)"
   ]
  },
  {
   "cell_type": "code",
   "execution_count": 13,
   "metadata": {
    "collapsed": false
   },
   "outputs": [
    {
     "data": {
      "text/plain": [
       "(array([ -9.51056516e-01,  -5.87785252e-01,   6.12323400e-17,\n",
       "          5.87785252e-01,   9.51056516e-01]),\n",
       " array([ 0.62831853,  0.62831853,  0.62831853,  0.62831853,  0.62831853]))"
      ]
     },
     "execution_count": 13,
     "metadata": {},
     "output_type": "execute_result"
    }
   ],
   "source": [
    "t_roots(5)"
   ]
  },
  {
   "cell_type": "code",
   "execution_count": 17,
   "metadata": {
    "collapsed": true
   },
   "outputs": [],
   "source": [
    "def Cheby2(m, a, b):\n",
    "    points = u_roots(m)[0]\n",
    "    weights = u_roots(m)[1]\n",
    "    return (b-a)*sum([(weights[i]/np.sqrt(1-(points[i])**2)) * f((b-a)*points[i]/2 + (b+a)/2)  for i in range(len(points))])/2"
   ]
  },
  {
   "cell_type": "code",
   "execution_count": 18,
   "metadata": {
    "collapsed": false
   },
   "outputs": [
    {
     "data": {
      "text/plain": [
       "-40.789633611622008"
      ]
     },
     "execution_count": 18,
     "metadata": {},
     "output_type": "execute_result"
    }
   ],
   "source": [
    "Cheby2(5, -2, 1)"
   ]
  },
  {
   "cell_type": "code",
   "execution_count": 14,
   "metadata": {
    "collapsed": false
   },
   "outputs": [
    {
     "data": {
      "text/plain": [
       "(array([ -8.66025404e-01,  -5.00000000e-01,   6.12323400e-17,\n",
       "          5.00000000e-01,   8.66025404e-01]),\n",
       " array([ 0.13089969,  0.39269908,  0.52359878,  0.39269908,  0.13089969]))"
      ]
     },
     "execution_count": 14,
     "metadata": {},
     "output_type": "execute_result"
    }
   ],
   "source": [
    "u_roots(5)"
   ]
  },
  {
   "cell_type": "markdown",
   "metadata": {},
   "source": [
    "m = 10の時"
   ]
  },
  {
   "cell_type": "code",
   "execution_count": 20,
   "metadata": {
    "collapsed": false
   },
   "outputs": [
    {
     "data": {
      "text/plain": [
       "-49.493963006199031"
      ]
     },
     "execution_count": 20,
     "metadata": {},
     "output_type": "execute_result"
    }
   ],
   "source": [
    "GL(10, -2, 1)"
   ]
  },
  {
   "cell_type": "code",
   "execution_count": 15,
   "metadata": {
    "collapsed": false
   },
   "outputs": [
    {
     "data": {
      "text/plain": [
       "(array([-0.97390653, -0.86506337, -0.67940957, -0.43339539, -0.14887434,\n",
       "         0.14887434,  0.43339539,  0.67940957,  0.86506337,  0.97390653]),\n",
       " array([ 0.06667134,  0.14945135,  0.21908636,  0.26926672,  0.29552422,\n",
       "         0.29552422,  0.26926672,  0.21908636,  0.14945135,  0.06667134]))"
      ]
     },
     "execution_count": 15,
     "metadata": {},
     "output_type": "execute_result"
    }
   ],
   "source": [
    "p_roots(10)"
   ]
  },
  {
   "cell_type": "code",
   "execution_count": 21,
   "metadata": {
    "collapsed": false
   },
   "outputs": [
    {
     "data": {
      "text/plain": [
       "-50.987455239343021"
      ]
     },
     "execution_count": 21,
     "metadata": {},
     "output_type": "execute_result"
    }
   ],
   "source": [
    "Cheby1(10, -2, 1)"
   ]
  },
  {
   "cell_type": "code",
   "execution_count": 16,
   "metadata": {
    "collapsed": false
   },
   "outputs": [
    {
     "data": {
      "text/plain": [
       "(array([-0.98768834, -0.89100652, -0.70710678, -0.4539905 , -0.15643447,\n",
       "         0.15643447,  0.4539905 ,  0.70710678,  0.89100652,  0.98768834]),\n",
       " array([ 0.31415927,  0.31415927,  0.31415927,  0.31415927,  0.31415927,\n",
       "         0.31415927,  0.31415927,  0.31415927,  0.31415927,  0.31415927]))"
      ]
     },
     "execution_count": 16,
     "metadata": {},
     "output_type": "execute_result"
    }
   ],
   "source": [
    "t_roots(10)"
   ]
  },
  {
   "cell_type": "code",
   "execution_count": 22,
   "metadata": {
    "collapsed": false
   },
   "outputs": [
    {
     "data": {
      "text/plain": [
       "-47.101342989695162"
      ]
     },
     "execution_count": 22,
     "metadata": {},
     "output_type": "execute_result"
    }
   ],
   "source": [
    "Cheby2(10, -2, 1)"
   ]
  },
  {
   "cell_type": "code",
   "execution_count": 17,
   "metadata": {
    "collapsed": false
   },
   "outputs": [
    {
     "data": {
      "text/plain": [
       "(array([-0.95949297, -0.84125353, -0.65486073, -0.41541501, -0.14231484,\n",
       "         0.14231484,  0.41541501,  0.65486073,  0.84125353,  0.95949297]),\n",
       " array([ 0.02266894,  0.08347854,  0.16312218,  0.23631356,  0.27981494,\n",
       "         0.27981494,  0.23631356,  0.16312218,  0.08347854,  0.02266894]))"
      ]
     },
     "execution_count": 17,
     "metadata": {},
     "output_type": "execute_result"
    }
   ],
   "source": [
    "u_roots(10)"
   ]
  },
  {
   "cell_type": "markdown",
   "metadata": {},
   "source": [
    "## 4\n",
    "(p_a, p_b, p_o)\n",
    "\n",
    "とりあえず10回やる"
   ]
  },
  {
   "cell_type": "code",
   "execution_count": 18,
   "metadata": {
    "collapsed": false
   },
   "outputs": [],
   "source": [
    "import numpy as np\n",
    "from scipy.stats import binom\n",
    "\n",
    "n = 25\n",
    "\n",
    "iteration = 100\n",
    "values = np.ones((iteration, 3))\n",
    "initial_value = [1/3, 1/3, 1/3]\n",
    "values[0, :] = initial_value\n",
    "\n",
    "for ite in range(1, iteration):\n",
    "    q_a = (2*values[ite-1, 2]) / (2*values[ite-1, 2] + values[ite-1, 0])\n",
    "    q_b = (2*values[ite-1, 2]) / (2*values[ite-1, 2] + values[ite-1, 1])\n",
    "    under = sum([binom.pmf(i, n, q_a) * binom.pmf(j, n, q_b) * (3*n - i) for i in range(n+1) for j in range(n+1)])\n",
    "    upper = sum([binom.pmf(i, n, q_a) * binom.pmf(j, n, q_b) * (2*n + i + j) for i in range(n+1) for j in range(n+1)])\n",
    "    values[ite, 0] = 1/(2+(upper/under))\n",
    "    values[ite, 1] = 1/(2+(upper/under))\n",
    "    values[ite, 2] = 1 - 2*values[ite, 0]"
   ]
  },
  {
   "cell_type": "code",
   "execution_count": 19,
   "metadata": {
    "collapsed": false
   },
   "outputs": [
    {
     "data": {
      "text/plain": [
       "array([[ 0.33333333,  0.33333333,  0.33333333],\n",
       "       [ 0.29166667,  0.29166667,  0.41666667],\n",
       "       [ 0.28240741,  0.28240741,  0.43518519],\n",
       "       [ 0.28062249,  0.28062249,  0.43875502],\n",
       "       [ 0.28028825,  0.28028825,  0.43942349],\n",
       "       [ 0.28022601,  0.28022601,  0.43954798],\n",
       "       [ 0.28021443,  0.28021443,  0.43957114],\n",
       "       [ 0.28021227,  0.28021227,  0.43957545],\n",
       "       [ 0.28021187,  0.28021187,  0.43957625],\n",
       "       [ 0.2802118 ,  0.2802118 ,  0.4395764 ],\n",
       "       [ 0.28021179,  0.28021179,  0.43957643],\n",
       "       [ 0.28021178,  0.28021178,  0.43957643],\n",
       "       [ 0.28021178,  0.28021178,  0.43957643],\n",
       "       [ 0.28021178,  0.28021178,  0.43957643],\n",
       "       [ 0.28021178,  0.28021178,  0.43957643],\n",
       "       [ 0.28021178,  0.28021178,  0.43957643],\n",
       "       [ 0.28021178,  0.28021178,  0.43957643],\n",
       "       [ 0.28021178,  0.28021178,  0.43957643],\n",
       "       [ 0.28021178,  0.28021178,  0.43957643],\n",
       "       [ 0.28021178,  0.28021178,  0.43957643],\n",
       "       [ 0.28021178,  0.28021178,  0.43957643],\n",
       "       [ 0.28021178,  0.28021178,  0.43957643],\n",
       "       [ 0.28021178,  0.28021178,  0.43957643],\n",
       "       [ 0.28021178,  0.28021178,  0.43957643],\n",
       "       [ 0.28021178,  0.28021178,  0.43957643],\n",
       "       [ 0.28021178,  0.28021178,  0.43957643],\n",
       "       [ 0.28021178,  0.28021178,  0.43957643],\n",
       "       [ 0.28021178,  0.28021178,  0.43957643],\n",
       "       [ 0.28021178,  0.28021178,  0.43957643],\n",
       "       [ 0.28021178,  0.28021178,  0.43957643],\n",
       "       [ 0.28021178,  0.28021178,  0.43957643],\n",
       "       [ 0.28021178,  0.28021178,  0.43957643],\n",
       "       [ 0.28021178,  0.28021178,  0.43957643],\n",
       "       [ 0.28021178,  0.28021178,  0.43957643],\n",
       "       [ 0.28021178,  0.28021178,  0.43957643],\n",
       "       [ 0.28021178,  0.28021178,  0.43957643],\n",
       "       [ 0.28021178,  0.28021178,  0.43957643],\n",
       "       [ 0.28021178,  0.28021178,  0.43957643],\n",
       "       [ 0.28021178,  0.28021178,  0.43957643],\n",
       "       [ 0.28021178,  0.28021178,  0.43957643],\n",
       "       [ 0.28021178,  0.28021178,  0.43957643],\n",
       "       [ 0.28021178,  0.28021178,  0.43957643],\n",
       "       [ 0.28021178,  0.28021178,  0.43957643],\n",
       "       [ 0.28021178,  0.28021178,  0.43957643],\n",
       "       [ 0.28021178,  0.28021178,  0.43957643],\n",
       "       [ 0.28021178,  0.28021178,  0.43957643],\n",
       "       [ 0.28021178,  0.28021178,  0.43957643],\n",
       "       [ 0.28021178,  0.28021178,  0.43957643],\n",
       "       [ 0.28021178,  0.28021178,  0.43957643],\n",
       "       [ 0.28021178,  0.28021178,  0.43957643],\n",
       "       [ 0.28021178,  0.28021178,  0.43957643],\n",
       "       [ 0.28021178,  0.28021178,  0.43957643],\n",
       "       [ 0.28021178,  0.28021178,  0.43957643],\n",
       "       [ 0.28021178,  0.28021178,  0.43957643],\n",
       "       [ 0.28021178,  0.28021178,  0.43957643],\n",
       "       [ 0.28021178,  0.28021178,  0.43957643],\n",
       "       [ 0.28021178,  0.28021178,  0.43957643],\n",
       "       [ 0.28021178,  0.28021178,  0.43957643],\n",
       "       [ 0.28021178,  0.28021178,  0.43957643],\n",
       "       [ 0.28021178,  0.28021178,  0.43957643],\n",
       "       [ 0.28021178,  0.28021178,  0.43957643],\n",
       "       [ 0.28021178,  0.28021178,  0.43957643],\n",
       "       [ 0.28021178,  0.28021178,  0.43957643],\n",
       "       [ 0.28021178,  0.28021178,  0.43957643],\n",
       "       [ 0.28021178,  0.28021178,  0.43957643],\n",
       "       [ 0.28021178,  0.28021178,  0.43957643],\n",
       "       [ 0.28021178,  0.28021178,  0.43957643],\n",
       "       [ 0.28021178,  0.28021178,  0.43957643],\n",
       "       [ 0.28021178,  0.28021178,  0.43957643],\n",
       "       [ 0.28021178,  0.28021178,  0.43957643],\n",
       "       [ 0.28021178,  0.28021178,  0.43957643],\n",
       "       [ 0.28021178,  0.28021178,  0.43957643],\n",
       "       [ 0.28021178,  0.28021178,  0.43957643],\n",
       "       [ 0.28021178,  0.28021178,  0.43957643],\n",
       "       [ 0.28021178,  0.28021178,  0.43957643],\n",
       "       [ 0.28021178,  0.28021178,  0.43957643],\n",
       "       [ 0.28021178,  0.28021178,  0.43957643],\n",
       "       [ 0.28021178,  0.28021178,  0.43957643],\n",
       "       [ 0.28021178,  0.28021178,  0.43957643],\n",
       "       [ 0.28021178,  0.28021178,  0.43957643],\n",
       "       [ 0.28021178,  0.28021178,  0.43957643],\n",
       "       [ 0.28021178,  0.28021178,  0.43957643],\n",
       "       [ 0.28021178,  0.28021178,  0.43957643],\n",
       "       [ 0.28021178,  0.28021178,  0.43957643],\n",
       "       [ 0.28021178,  0.28021178,  0.43957643],\n",
       "       [ 0.28021178,  0.28021178,  0.43957643],\n",
       "       [ 0.28021178,  0.28021178,  0.43957643],\n",
       "       [ 0.28021178,  0.28021178,  0.43957643],\n",
       "       [ 0.28021178,  0.28021178,  0.43957643],\n",
       "       [ 0.28021178,  0.28021178,  0.43957643],\n",
       "       [ 0.28021178,  0.28021178,  0.43957643],\n",
       "       [ 0.28021178,  0.28021178,  0.43957643],\n",
       "       [ 0.28021178,  0.28021178,  0.43957643],\n",
       "       [ 0.28021178,  0.28021178,  0.43957643],\n",
       "       [ 0.28021178,  0.28021178,  0.43957643],\n",
       "       [ 0.28021178,  0.28021178,  0.43957643],\n",
       "       [ 0.28021178,  0.28021178,  0.43957643],\n",
       "       [ 0.28021178,  0.28021178,  0.43957643],\n",
       "       [ 0.28021178,  0.28021178,  0.43957643],\n",
       "       [ 0.28021178,  0.28021178,  0.43957643]])"
      ]
     },
     "execution_count": 19,
     "metadata": {},
     "output_type": "execute_result"
    }
   ],
   "source": [
    "values"
   ]
  },
  {
   "cell_type": "markdown",
   "metadata": {},
   "source": [
    "## 5"
   ]
  },
  {
   "cell_type": "code",
   "execution_count": 1,
   "metadata": {
    "collapsed": false
   },
   "outputs": [],
   "source": [
    "# data generate\n",
    "import numpy as np\n",
    "\n",
    "I = 100\n",
    "J = 2\n",
    "beta_0 = -1\n",
    "beta_1 = 1\n",
    "sigma_u = 0.5\n",
    "sigma_eps = 1\n",
    "\n",
    "np.random.seed(12345)\n",
    "\n",
    "value_x = np.random.normal(0, 1, (I, J))\n",
    "u = np.random.normal(0, sigma_u, I)\n",
    "value_u = np.ones((I, J))\n",
    "value_u[:, 0] = u\n",
    "value_u[:, 1] = u\n",
    "value_eps = np.random.normal(0, sigma_eps, (I, J))\n",
    "value_y = beta_0 + beta_1 * value_x + value_u + value_eps"
   ]
  },
  {
   "cell_type": "code",
   "execution_count": 4,
   "metadata": {
    "collapsed": false
   },
   "outputs": [],
   "source": [
    "# EM algorithm\n",
    "# para = (beta_0, beta_1, sigma_eps, sigma_u)\n",
    "# sigma is variance\n",
    "\n",
    "iteration = 30\n",
    "\n",
    "XY = sum(sum(value_y * value_x))\n",
    "X = sum(sum(value_x))\n",
    "Y = sum(sum(value_y))\n",
    "X_2 = sum(sum(value_x * value_x))\n",
    "\n",
    "def xE(E_t):\n",
    "    return sum(sum(value_x * np.array([E_t, E_t]).T))\n",
    "\n",
    "def eps_right(E_t, beta0, beta1):\n",
    "    return (sum(sum((value_y - beta0-beta1*value_x)**2)) + J * sum(E_t**2) - 2*sum(sum((value_y - beta0 - beta1*value_x) * np.array([E_t, E_t]).T)))/(I*J)\n",
    "\n",
    "initial = [0, 0, 5, 5]\n",
    "E_t = np.ones(I)\n",
    "estimation = np.ones((iteration, 4))\n",
    "estimation[0, :] = initial\n",
    "\n",
    "for ite in range(1,iteration):\n",
    "    u = estimation[ite-1, 3]\n",
    "    eps = estimation[ite-1, 2]\n",
    "    beta0 = estimation[ite-1, 0]\n",
    "    beta1 = estimation[ite-1, 1]\n",
    "    for i in range(I):\n",
    "        E_t[i] = u*sum([value_y[i, j] - beta0 - beta1*value_x[i, j] for j in range(J)]) / (J*u + eps)\n",
    "    V_t = eps*u/(J*u + eps)\n",
    "    estimation[ite, 1] = (I*J *XY - Y*X - J * (I*xE(E_t) - sum(E_t)*X))/(I*J*X_2 - X**2)\n",
    "    estimation[ite, 0] = (Y-beta1*X - J* sum(E_t))/(I*J)\n",
    "    estimation[ite, 2] = V_t + eps_right(E_t, estimation[ite-1, 0], estimation[ite-1, 1])\n",
    "    estimation[ite, 3] = V_t + sum(E_t**2)/I"
   ]
  },
  {
   "cell_type": "code",
   "execution_count": 5,
   "metadata": {
    "collapsed": false,
    "scrolled": false
   },
   "outputs": [
    {
     "data": {
      "text/plain": [
       "array([[ 0.        ,  0.        ,  5.        ,  5.        ],\n",
       "       [-0.34103096,  0.69821925,  3.0020363 ,  2.84446715],\n",
       "       [-0.5763915 ,  0.94938141,  1.73845524,  1.60544487],\n",
       "       [-0.73296693,  1.03770369,  1.22828656,  1.02475626],\n",
       "       [-0.84130281,  1.06991278,  1.04387598,  0.7605353 ],\n",
       "       [-0.91485872,  1.08238322,  0.98469137,  0.62888819],\n",
       "       [-0.96191767,  1.08784075,  0.9719928 ,  0.55478565],\n",
       "       [-0.98998363,  1.09070466,  0.97559875,  0.50833772],\n",
       "       [-1.00567122,  1.09249   ,  0.98397771,  0.47665551],\n",
       "       [-1.01397376,  1.09373702,  0.99288308,  0.45363256],\n",
       "       [-1.01817624,  1.09466499,  1.00094141,  0.43612061],\n",
       "       [-1.02022771,  1.09538145,  1.00786314,  0.42236135],\n",
       "       [-1.02119989,  1.09594868,  1.01371959,  0.41129468],\n",
       "       [-1.0216494 ,  1.09640648,  1.01867035,  0.40223692],\n",
       "       [-1.02185295,  1.0967818 ,  1.02287304,  0.39472257],\n",
       "       [-1.02194347,  1.09709347,  1.02646045,  0.38842106],\n",
       "       [-1.02198306,  1.09735504,  1.02953936,  0.38308996],\n",
       "       [-1.02200009,  1.09757648,  1.03219486,  0.37854681],\n",
       "       [-1.02200728,  1.09776533,  1.03449502,  0.37465139],\n",
       "       [-1.02201023,  1.09792736,  1.0364948 ,  0.37129401],\n",
       "       [-1.02201138,  1.09806711,  1.03823903,  0.36838755],\n",
       "       [-1.02201178,  1.09818816,  1.0397646 ,  0.36586191],\n",
       "       [-1.02201188,  1.09829341,  1.04110215,  0.36366002],\n",
       "       [-1.02201186,  1.09838521,  1.04227732,  0.36173495],\n",
       "       [-1.02201179,  1.09846551,  1.04331173,  0.36004777],\n",
       "       [-1.02201172,  1.09853591,  1.04422369,  0.35856591],\n",
       "       [-1.02201165,  1.09859778,  1.04502884,  0.35726195],\n",
       "       [-1.02201159,  1.09865223,  1.04574057,  0.35611265],\n",
       "       [-1.02201153,  1.09870024,  1.0463704 ,  0.35509822],\n",
       "       [-1.02201148,  1.09874262,  1.0469283 ,  0.3542017 ]])"
      ]
     },
     "execution_count": 5,
     "metadata": {},
     "output_type": "execute_result"
    }
   ],
   "source": [
    "estimation"
   ]
  },
  {
   "cell_type": "code",
   "execution_count": 4,
   "metadata": {
    "collapsed": false
   },
   "outputs": [
    {
     "data": {
      "text/plain": [
       "array([[ 0.        ,  0.        ,  2.23606798,  2.23606798],\n",
       "       [-0.34103096,  0.69821925,  1.73263854,  1.68655482],\n",
       "       [-0.5763915 ,  0.94938141,  1.31850493,  1.26706151],\n",
       "       ..., \n",
       "       [-1.02201107,  1.09907877,  1.02538451,  0.58912061],\n",
       "       [-1.02201107,  1.09907877,  1.02538451,  0.58912061],\n",
       "       [-1.02201107,  1.09907877,  1.02538451,  0.58912061]])"
      ]
     },
     "execution_count": 4,
     "metadata": {},
     "output_type": "execute_result"
    }
   ],
   "source": [
    "# change the last variance into standard deviation\n",
    "estimation[:, 2] = np.sqrt(estimation[:, 2])\n",
    "estimation[:, 3] = np.sqrt(estimation[:, 3])\n",
    "estimation"
   ]
  },
  {
   "cell_type": "markdown",
   "metadata": {
    "collapsed": false
   },
   "source": [
    "## 本当にやりたいのは以下"
   ]
  },
  {
   "cell_type": "code",
   "execution_count": 24,
   "metadata": {
    "collapsed": false
   },
   "outputs": [
    {
     "name": "stdout",
     "output_type": "stream",
     "text": [
      "[-1.13331577  0.98594731  0.90066554  0.19548571]\n",
      "[-0.96387251  0.91331361  1.03990671  0.21272061]\n",
      "[-1.05044893  0.85033556  0.96690631  0.15671331]\n",
      "[-0.91765552  0.94998296  0.91858536  0.37601647]\n",
      "[-0.8454215   0.99730885  0.91140529  0.19852073]\n",
      "[-1.00366482  0.89726726  1.05868738  0.10673721]\n",
      "[-0.96543191  1.01476415  1.07009208  0.17534395]\n",
      "[-1.13257678  1.06691691  0.98866717  0.13718347]\n",
      "[-1.00863337  0.90988075  0.95786389  0.14842504]\n",
      "[-0.9177284   1.09912132  1.00501027  0.21281046]\n",
      "[-0.99592277  0.98845735  0.98729258  0.12344344]\n",
      "[-1.09149362  1.16558376  1.02423773  0.20230835]\n",
      "[-0.97449972  1.04935579  0.84193333  0.38922871]\n",
      "[-1.04155855  1.01374624  0.968782    0.19296279]\n",
      "[-1.1585563   0.94570647  0.72741175  0.41692284]\n",
      "[-1.02434851  1.07521928  1.00990626  0.2672988 ]\n",
      "[-1.13414805  0.97968983  0.88680589  0.13366996]\n",
      "[-1.0025216   0.96242529  0.98750493  0.20352942]\n",
      "[-1.07355351  0.91454855  0.98872422  0.38052153]\n",
      "[-1.06573796  0.86202282  0.93749759  0.31719988]\n",
      "[-0.97637481  0.83866535  0.89752155  0.17958548]\n",
      "[-0.93796629  0.91221894  0.88368723  0.31993383]\n",
      "[-0.87817387  0.79572793  1.00455762  0.35568581]\n",
      "[-1.14885256  0.9318648   0.79831979  0.27432429]\n",
      "[-1.18932218  1.00430879  1.06458183  0.14965863]\n",
      "[-0.93766705  1.0318094   1.06911882  0.21971216]\n",
      "[-1.00123937  0.99930387  0.94019907  0.21536757]\n",
      "[-1.08198402  1.02003509  0.95956866  0.37822592]\n",
      "[-1.04523095  0.98127481  0.93305395  0.24582387]\n",
      "[-0.96625646  0.9838301   0.70623396  0.55573364]\n",
      "[-1.0980894   0.89802851  1.08851173  0.1499424 ]\n",
      "[-0.98600944  1.13967533  1.12041415  0.22164151]\n",
      "[-0.99427255  0.86201599  0.922885    0.38145889]\n",
      "[-0.97881281  1.07523947  0.77624737  0.45273125]\n",
      "[-1.11345934  1.00299817  0.92730693  0.18748117]\n",
      "[-1.14181803  1.04599506  0.92117454  0.33183608]\n",
      "[-1.11419078  1.04389962  1.19862842  0.2060794 ]\n",
      "[-0.99678864  0.83866103  1.05152739  0.16941586]\n",
      "[-0.9694451   1.09534066  0.8123912   0.34342899]\n",
      "[-1.03957276  1.07775231  1.0855139   0.10302119]\n",
      "[-0.94686853  1.06930288  0.70912758  0.4498719 ]\n",
      "[-1.06949997  0.9545061   0.93751246  0.23591573]\n",
      "[-0.94282379  0.98319016  0.89994334  0.36216728]\n",
      "[-0.99135424  1.16036015  0.9888634   0.30192314]\n",
      "[-0.85072526  0.97708562  0.90803814  0.23591365]\n",
      "[-1.0312849   0.968438    0.95902682  0.30120502]\n",
      "[-0.98992643  1.00804951  1.15626337  0.21504706]\n",
      "[-0.91211885  0.95877346  0.95879936  0.24780864]\n",
      "[-0.97543351  0.88544859  0.9384365   0.19015825]\n",
      "[-1.04828903  1.09628286  0.79024542  0.18334225]\n",
      "[-1.11524743  1.08031195  0.72531422  0.33159802]\n",
      "[-1.09731439  0.9754905   1.04801182  0.24805214]\n",
      "[-0.83707544  1.07244254  0.93342126  0.22878764]\n",
      "[-1.06974874  0.99915451  1.35423885  0.14724981]\n",
      "[-1.11169807  1.10266567  1.14877555  0.14079877]\n",
      "[-1.05822394  0.94062523  0.89631506  0.20038199]\n",
      "[-0.9668036   1.07157734  0.86653996  0.23113641]\n",
      "[-1.07055689  1.13534375  1.11101349  0.23873029]\n",
      "[-1.22350251  0.93021083  0.91718709  0.399809  ]\n",
      "[-1.04437285  0.97447249  0.84704556  0.37810607]\n",
      "[-0.97611947  1.18776777  1.26870388  0.11178114]\n",
      "[-1.0861436   0.84687617  0.77138156  0.55863741]\n",
      "[-0.92967134  0.95624175  0.70333485  0.29907504]\n",
      "[-0.83158196  1.01933637  0.92442357  0.1234825 ]\n",
      "[-0.99662288  0.97993906  0.80207765  0.48719059]\n",
      "[-1.04043358  0.90626641  1.04862802  0.38744238]\n",
      "[-0.9888802   1.10168006  1.03550007  0.23684364]\n",
      "[-1.01529687  0.97587748  1.13736639  0.25061834]\n",
      "[-0.95166392  0.9532964   0.94440351  0.25649267]\n",
      "[-1.16531708  0.87861909  0.9855292   0.3219845 ]\n",
      "[-1.03742477  1.12603249  1.02198226  0.22370136]\n",
      "[-0.88111153  0.87568736  1.07047893  0.26472247]\n",
      "[-1.02821166  0.99411774  0.99966377  0.21010749]\n",
      "[-1.03134926  1.08576125  0.85129896  0.47457298]\n",
      "[-0.93713543  1.03491134  1.02080911  0.21517608]\n",
      "[-0.91049767  1.10793254  0.74228311  0.45791414]\n",
      "[-1.14309312  0.92978139  1.00184969  0.30862639]\n",
      "[-1.05161351  0.95453748  0.86025313  0.45562399]\n",
      "[-0.9895643   1.04969676  1.00842307  0.30327759]\n",
      "[-0.95712049  1.0528384   0.98542678  0.32670409]\n",
      "[-0.92953967  1.06634577  0.65071677  0.42813493]\n",
      "[-0.95161595  1.05617115  0.86564955  0.3600316 ]\n",
      "[-1.05274583  0.95721374  1.24887002  0.48568185]\n",
      "[-1.01562309  1.01757647  1.05816798  0.33638695]\n",
      "[-0.93678481  1.0391817   1.31057231  0.21947782]\n",
      "[-1.02669291  0.98918713  0.91824722  0.38699866]\n",
      "[-1.01377733  0.89553705  1.05021825  0.21797676]\n",
      "[-0.9221677   1.04595436  0.8240927   0.42267852]\n",
      "[-0.89992126  1.06285505  1.0153538   0.45552253]\n",
      "[-0.91741755  0.97339074  1.31462671  0.14556414]\n",
      "[-1.07707593  1.06595744  1.20815792  0.21257655]\n",
      "[-1.06768223  1.00373834  0.83236221  0.18556111]\n",
      "[-1.00833846  0.97023681  0.81144548  0.35948499]\n",
      "[-1.06286185  0.96485667  0.90776368  0.26670298]\n",
      "[-1.0046741   0.82132555  1.05493015  0.24791556]\n",
      "[-0.95815026  1.12528747  0.93316798  0.23816586]\n",
      "[-0.9851818   1.07801404  0.84548881  0.25206765]\n",
      "[-0.87308665  0.90961406  0.86882235  0.23962376]\n",
      "[-1.00468625  0.9865516   1.06412589  0.37206593]\n",
      "[-0.90000504  0.97124277  0.9284245   0.19273293]\n",
      "[-0.92171711  1.05305818  1.08852349  0.28079438]\n",
      "[-0.99087492  1.05845818  1.11476183  0.37275436]\n",
      "[-0.97204497  0.97966421  0.91830442  0.29893067]\n",
      "[-0.87881873  0.99062247  1.02324468  0.20664067]\n",
      "[-0.96998851  0.95023666  0.859709    0.1990715 ]\n",
      "[-0.93174816  1.01552125  0.88658346  0.33642864]\n",
      "[-1.00092366  1.01006376  1.01060707  0.3043878 ]\n",
      "[-1.0158355   0.89526701  1.30185563  0.22842179]\n",
      "[-1.01564022  0.92148631  0.90330526  0.37270883]\n",
      "[-0.9185127   0.92299729  1.10687303  0.26885425]\n",
      "[-0.96784866  1.02915778  1.19522249  0.19235359]\n",
      "[-1.15650513  1.0154878   1.32805826  0.20931118]\n",
      "[-0.95928044  0.90075759  1.02578547  0.1242373 ]\n",
      "[-0.90368559  0.87351515  1.06549323  0.1080834 ]\n",
      "[-0.94179892  0.90995714  1.04386247  0.1901809 ]\n",
      "[-0.8760403   0.94861396  0.96418932  0.21039284]\n",
      "[-1.06446378  1.02287116  1.06561229  0.20042695]\n",
      "[-0.94217293  1.08646117  0.99987361  0.36229685]\n",
      "[-1.19516844  1.06697038  1.10973198  0.18292792]\n",
      "[-0.86809059  1.04986713  0.82550889  0.26799435]\n",
      "[-0.97658233  1.03088648  0.88654848  0.49343793]\n",
      "[-0.99423574  1.06496526  0.92236332  0.1664272 ]\n",
      "[-1.04805884  0.96389364  1.09784343  0.32117172]\n",
      "[-1.09998878  0.89216085  0.9162133   0.19473691]\n",
      "[-1.10713778  1.06614745  0.88295895  0.29749575]\n",
      "[-0.80732302  1.13039526  0.9069955   0.18908854]\n",
      "[-1.08034533  1.0416003   0.90784567  0.32906889]\n",
      "[-1.05005808  0.95553628  0.78917467  0.43950836]\n",
      "[-0.93014485  0.95840989  0.75397512  0.37865257]\n",
      "[-1.20262691  1.07939026  0.96729642  0.35334429]\n",
      "[-1.08006406  0.91458559  1.00321151  0.17556479]\n",
      "[-0.97056417  0.91379557  0.94752555  0.32312548]\n",
      "[-0.94281362  0.97983698  0.83280392  0.45854492]\n",
      "[-1.01403367  0.96743595  1.09707497  0.29736512]\n",
      "[-1.00974889  0.97808498  0.95936057  0.23566678]\n",
      "[-1.03989942  0.99873797  1.03208808  0.11036291]\n",
      "[-1.00633898  1.07879784  0.73030662  0.40455564]\n",
      "[-1.03653629  0.94312231  1.30199184  0.17095039]\n",
      "[-0.96498777  1.03532104  0.95487589  0.27119831]\n",
      "[-1.11725731  1.0409062   0.79875327  0.41784791]\n",
      "[-0.95185373  0.9953223   0.97111087  0.12029835]\n",
      "[-0.98691293  0.87651829  0.90250689  0.17517078]\n",
      "[-0.83548366  1.0444128   0.98201808  0.32955196]\n",
      "[-0.96827308  1.13038764  0.79885986  0.42315562]\n",
      "[-1.05261171  1.02528975  0.93161084  0.18126878]\n",
      "[-1.01443003  1.03903492  0.79487841  0.26426928]\n",
      "[-1.01559165  0.92217008  1.05600851  0.25621861]\n",
      "[-0.92500438  1.02131586  0.9379783   0.33020348]\n",
      "[-0.97282632  0.98492439  1.20024406  0.25944708]\n",
      "[-1.00410675  0.95761216  0.87271667  0.34972869]\n",
      "[-1.03683711  1.01474165  0.8332135   0.33296286]\n",
      "[-0.95865987  1.08325905  0.90517862  0.31628682]\n",
      "[-1.07216179  1.06298445  0.73798116  0.32963368]\n",
      "[-1.09734964  1.0047473   1.07574593  0.13949902]\n",
      "[-1.00716672  0.90404808  0.93690533  0.40892341]\n",
      "[-1.03268722  1.06239259  1.09664152  0.25226455]\n",
      "[-1.03968879  0.96974268  1.09479711  0.22238903]\n",
      "[-1.08416609  1.01174516  1.06052568  0.18491401]\n",
      "[-1.071004    0.98781941  1.03702045  0.19570566]\n",
      "[-0.99258061  1.0292378   0.86337324  0.16672973]\n",
      "[-0.89856763  1.03409032  1.04672529  0.14526093]\n",
      "[-1.06602402  1.02083144  0.95524365  0.35515686]\n",
      "[-0.88290329  1.04798127  0.84528963  0.34019014]\n",
      "[-0.99715736  0.99606771  1.12378961  0.38550364]\n",
      "[-1.03636342  1.16389118  0.90054619  0.40111214]\n",
      "[-0.94553203  1.09257831  0.8750378   0.2936337 ]\n",
      "[-1.08931589  1.03499134  0.91898001  0.13689801]\n",
      "[-0.93071095  1.10099925  0.78901964  0.21183496]\n",
      "[-0.92970711  1.10223541  1.06830205  0.36139929]\n",
      "[-1.10665558  0.86307845  0.72040808  0.55422794]\n",
      "[-0.87026262  1.0088043   0.9974078   0.26574902]\n",
      "[-0.9497354   1.09820728  0.89826903  0.27698871]\n",
      "[-0.97833125  1.01415025  0.98098737  0.24590171]\n",
      "[-0.99767226  0.9909955   0.90990512  0.1511059 ]\n",
      "[-0.98441544  0.94552615  0.64296651  0.5073132 ]\n",
      "[-1.11799156  1.0311815   0.75121199  0.36821672]\n",
      "[-0.98848459  1.05185682  1.03406957  0.26133874]\n",
      "[-1.08527357  1.14059708  0.90956937  0.17084172]\n",
      "[-1.03023859  0.8301964   0.85841766  0.38016323]\n",
      "[-0.96566157  0.99503834  1.05021883  0.19796852]\n",
      "[-0.9048698   1.02362971  1.0756937   0.15831584]\n",
      "[-1.0046784   1.03141603  0.77398646  0.34186454]\n",
      "[-0.92034337  1.00690086  0.85345979  0.25859436]\n",
      "[-0.98910787  0.91266149  1.06583266  0.23824652]\n",
      "[-0.99529775  1.01706948  1.03496948  0.3992639 ]\n",
      "[-0.96376173  1.06726091  0.80851891  0.32398534]\n",
      "[-1.17752569  0.96535695  0.82607241  0.20423656]\n",
      "[-1.15522127  1.02641372  0.86065247  0.32305082]\n",
      "[-0.84653565  0.96237491  1.02961759  0.26013944]\n",
      "[-1.01362309  1.04293618  0.91194704  0.23297668]\n",
      "[-1.05445277  0.94996567  1.11112709  0.29062152]\n",
      "[-1.05905937  1.08115741  1.10195584  0.23165394]\n",
      "[-0.90331037  1.03702146  0.85817259  0.30350574]\n",
      "[-1.03574446  0.9194097   0.96461529  0.34026446]\n",
      "[-0.84776915  1.08172646  1.15496792  0.23752811]\n",
      "[-0.98087332  1.11213434  0.67493941  0.26172496]\n",
      "[-0.9145953   1.00519117  1.14136405  0.18174255]\n",
      "[-1.01137708  1.23750137  0.94759547  0.29392477]\n",
      "[-0.89687029  0.96572489  1.10422379  0.14744745]\n",
      "[-1.12706224  1.06695122  0.96799584  0.29435852]\n",
      "[-1.00322719  1.00229712  0.94190979  0.30985751]\n",
      "[-1.20788174  0.96825734  0.89714703  0.28286587]\n",
      "[-0.90808036  1.06765697  0.96752018  0.30518186]\n",
      "[-0.75132247  0.95744369  1.02378167  0.24275222]\n",
      "[-0.9461292   1.01221367  0.87423313  0.31242265]\n",
      "[-0.87677893  1.0767067   0.8866696   0.2895817 ]\n",
      "[-0.9872851   1.01783225  1.06238398  0.27068967]\n",
      "[-1.09282405  0.92692144  0.82172899  0.40859968]\n",
      "[-1.05472765  1.02828123  0.66675357  0.25422325]\n",
      "[-0.97205319  0.94080237  0.98924194  0.27481802]\n",
      "[-1.04898749  0.97821597  0.74962671  0.33902288]\n",
      "[-0.88281347  0.95561405  0.78284978  0.30398286]\n",
      "[-0.72635919  0.91449623  1.02227297  0.16124952]\n",
      "[-1.12357144  0.92991232  1.0879346   0.19756102]\n",
      "[-1.16482618  0.99462577  1.21019084  0.20834521]\n",
      "[-1.01691575  0.94435147  0.89506859  0.1473449 ]\n",
      "[-1.05997165  1.06866435  0.93230798  0.16211542]\n",
      "[-1.07643128  0.90310784  1.09899391  0.09563897]\n",
      "[-0.91533201  1.04598946  0.8296124   0.32041433]\n",
      "[-1.07335614  0.91704316  0.93886833  0.21595418]\n",
      "[-0.91907679  1.20442698  1.04554485  0.14931936]\n",
      "[-0.87821185  0.9932091   0.78525452  0.4860237 ]\n",
      "[-1.02102652  1.08330461  0.96052577  0.22230303]\n",
      "[-0.92129501  1.04617459  1.16917527  0.30879976]\n",
      "[-1.06827735  1.11174256  0.78417375  0.23278858]\n",
      "[-1.00047246  1.01102242  0.83980032  0.41793691]\n",
      "[-0.92312124  1.01625041  1.00873061  0.23290165]\n",
      "[-1.06974259  0.92737312  1.04836921  0.24749837]\n",
      "[-0.95753405  1.00181642  1.01039741  0.34592661]\n",
      "[-0.97385201  1.10873615  0.95682006  0.45389959]\n",
      "[-1.02978615  0.89217532  0.96629497  0.23960103]\n",
      "[-0.87702691  1.08238917  1.20146413  0.16726604]\n",
      "[-0.85184574  1.10416293  0.76638021  0.29973055]\n",
      "[-0.89930913  0.96134743  0.82236236  0.14782946]\n",
      "[-1.11352132  1.0074559   1.15624985  0.24826744]\n",
      "[-0.98416084  0.88459641  1.16605197  0.33815923]\n",
      "[-0.93428172  1.04013156  1.07007639  0.12464638]\n",
      "[-1.15390508  0.97247006  1.05173453  0.37055842]\n",
      "[-0.96191378  1.03268398  0.99723454  0.22771695]\n",
      "[-1.04647175  0.93649946  0.94769785  0.25757735]\n",
      "[-0.92644073  1.00157519  0.78772706  0.24607268]\n",
      "[-1.01868318  0.86832563  0.96916364  0.09978794]\n",
      "[-0.98067632  1.08790834  1.00848159  0.1935212 ]\n",
      "[-1.04122675  0.87993431  1.07024175  0.24368669]\n",
      "[-1.18558865  1.11844776  0.94439165  0.37011824]\n",
      "[-0.99626829  0.98023082  0.94276846  0.23201895]\n",
      "[-0.94733033  0.94857533  1.09060221  0.38611032]\n",
      "[-0.95720208  0.88637708  1.10515098  0.29949488]\n",
      "[-1.04319963  0.83635626  1.13523731  0.17331012]\n",
      "[-0.8996963   0.88259261  0.91008895  0.27222295]\n",
      "[-1.0221298   0.92208971  1.03050991  0.38320108]\n",
      "[-1.0084727   1.04650616  1.13698197  0.25797959]\n",
      "[-0.8219622   0.90286106  0.93972655  0.23860347]\n",
      "[-1.00159943  0.92406552  1.16427893  0.24560351]\n",
      "[-0.91987022  1.05897579  1.29526509  0.13657976]\n",
      "[-1.02262084  0.88142265  0.92871302  0.27743643]\n",
      "[-1.01865441  1.02221377  1.26174779  0.20980958]\n",
      "[-1.10557637  0.86898132  1.05737105  0.13527136]\n",
      "[-1.06474298  1.10836482  0.76656469  0.3158125 ]\n",
      "[-1.06519515  0.91465954  1.0176046   0.24353913]\n",
      "[-1.01160994  0.95903206  0.74794209  0.28352953]\n",
      "[-0.91540168  1.04290591  0.85332996  0.34365548]\n",
      "[-0.99761089  1.12690564  0.89798856  0.28442868]\n",
      "[-0.99852535  0.84475836  0.80952704  0.20198652]\n",
      "[-0.94062434  1.00192841  1.08375708  0.41027674]\n",
      "[-0.90677855  1.02349472  1.19094233  0.13413914]\n",
      "[-0.88584294  1.01025525  1.23178299  0.20160693]\n",
      "[-1.0438898   0.97637062  1.10045813  0.16375343]\n",
      "[-0.97512254  0.8256486   0.75484744  0.40419029]\n",
      "[-1.0787422   1.05668814  0.73483105  0.37150149]\n",
      "[-0.94816612  0.89877604  0.87535268  0.32864318]\n",
      "[-1.12923944  0.96043068  0.9964466   0.22432742]\n",
      "[-1.00676262  1.07623567  0.96075933  0.13997937]\n",
      "[-0.97451286  1.15617413  0.88460107  0.3560659 ]\n",
      "[-1.00560283  1.01994477  0.99575389  0.26553095]\n",
      "[-0.8531113   1.02198672  0.82767829  0.4325974 ]\n",
      "[-1.04645858  0.98468595  0.76871565  0.21106448]\n",
      "[-0.99117922  1.01837465  0.9113324   0.30934559]\n",
      "[-1.04343262  1.00515791  0.93658389  0.36055493]\n",
      "[-0.97914645  1.10066654  0.89851077  0.29301552]\n",
      "[-1.02687763  1.01762799  0.89149463  0.26963528]\n",
      "[-0.85716902  1.00339377  1.036096    0.17038163]\n",
      "[-0.97760201  1.21517074  0.98656272  0.0774039 ]\n",
      "[-0.92740803  1.11318868  0.96553039  0.30121263]\n",
      "[-1.03852523  1.03404678  1.04538976  0.30528552]\n",
      "[-1.15761215  1.05537065  0.85381367  0.2565649 ]\n",
      "[-1.01791921  0.99098956  1.19171947  0.15734361]\n",
      "[-0.92429195  1.16530499  0.80184515  0.3616999 ]\n",
      "[-0.92471108  0.86759397  1.05645524  0.28541119]\n",
      "[-1.02802983  0.9276522   1.07920122  0.20878325]\n",
      "[-0.95235923  1.09618896  1.24608912  0.14965406]\n",
      "[-1.02139122  0.96508807  1.00556287  0.23488833]\n",
      "[-0.96271484  1.11607634  1.14054294  0.26042728]\n",
      "[-1.00186651  1.00027939  0.81667997  0.26023358]\n",
      "[-1.01153004  0.99419689  0.83150343  0.33981055]\n",
      "[-1.10058111  0.95828293  0.99802547  0.18688022]\n",
      "[-1.01096031  0.96554374  0.97517396  0.28399772]\n",
      "[-0.91339048  1.0153059   0.81880177  0.35767039]\n",
      "[-1.06954585  1.0593352   1.09882723  0.25417487]\n",
      "[-1.18185383  1.13611512  1.09072969  0.1607476 ]\n",
      "[-0.91808259  1.03843414  1.01606417  0.16529829]\n",
      "[-1.07503246  1.10213394  0.94221772  0.19265187]\n",
      "[-1.08201222  1.02481995  1.18212976  0.48935722]\n",
      "[-0.97772617  0.88682528  0.91488581  0.38387813]\n",
      "[-1.07353403  1.06415689  0.96951096  0.15820351]\n",
      "[-0.91351109  0.84655761  0.87234925  0.32769713]\n",
      "[-1.10809137  1.00662141  0.92261998  0.29835421]\n",
      "[-0.96109095  0.96095427  0.89411175  0.23308835]\n",
      "[-1.01355534  1.01865852  1.11448172  0.35196101]\n",
      "[-0.89317182  0.94441812  1.0195932   0.30516644]\n",
      "[-1.1361154   1.04707392  0.93385645  0.15029431]\n",
      "[-1.22120417  0.97494672  0.99527403  0.31536408]\n",
      "[-1.08532961  0.98172822  0.86554991  0.2715222 ]\n",
      "[-0.97482713  0.98634915  1.16994105  0.31408751]\n",
      "[-1.00891347  1.08372309  1.15973633  0.27478566]\n",
      "[-1.10025736  0.97548272  0.88075111  0.21020864]\n",
      "[-0.99344504  0.96730989  0.76624641  0.42928981]\n",
      "[-0.89818036  0.94280434  0.91201937  0.16930292]\n",
      "[-0.94554114  1.02539396  1.04905323  0.20877947]\n",
      "[-1.00779917  0.90265276  0.93609932  0.23613769]\n",
      "[-1.08710881  0.95635274  0.90270278  0.42543727]\n",
      "[-1.0124269   0.86663481  0.91979313  0.30636051]\n",
      "[-1.03402141  1.06906957  0.97831862  0.18793733]\n",
      "[-0.98205213  0.89899657  1.03912768  0.10233273]\n",
      "[-0.89424121  0.96469387  0.99817698  0.26900597]\n",
      "[-0.91093201  0.98947378  0.87381062  0.3234521 ]\n",
      "[-1.09422666  1.087732    1.02820767  0.19319362]\n",
      "[-1.03789088  1.10285139  0.91177893  0.38702455]\n",
      "[-1.02720412  1.11498012  0.8341358   0.27967974]\n",
      "[-0.81441223  0.92612583  0.77765367  0.37958997]\n",
      "[-1.10086755  0.95942138  0.95696289  0.38986069]\n",
      "[-0.85263014  0.83469693  0.91460468  0.4293701 ]\n",
      "[-1.00658155  1.04593885  0.97164812  0.24586013]\n",
      "[-1.0430907   1.08439187  0.87888904  0.26887426]\n",
      "[-1.02322913  0.95713629  0.90153517  0.13136499]\n",
      "[-1.04522265  0.99185289  0.97616438  0.12856981]\n",
      "[-0.89385589  1.03060074  1.06686928  0.28720829]\n",
      "[-0.99089261  0.98021849  1.10220902  0.28528844]\n",
      "[-1.06780679  1.02073441  0.89610643  0.25491228]\n",
      "[-1.17022786  0.98058713  0.96250686  0.14224071]\n",
      "[-1.07340573  0.9975104   0.86094243  0.33218049]\n",
      "[-1.02051389  0.89589415  0.86908509  0.36581974]\n",
      "[-1.03814299  0.96315743  1.03609629  0.14504881]\n",
      "[-1.13040331  0.85159018  0.89795721  0.35816664]\n",
      "[-1.14076568  1.07084705  1.0348313   0.14744855]\n",
      "[-1.21301916  1.03491462  0.88841314  0.15592043]\n",
      "[-1.00328097  1.13344816  0.87063609  0.24468101]\n",
      "[-0.97126618  0.99101754  0.8955461   0.19210904]\n",
      "[-0.93600372  0.98410095  1.05879857  0.25518398]\n",
      "[-1.07744324  0.9195576   1.24303539  0.26935828]\n",
      "[-1.0660885   0.94338248  0.93195787  0.36407445]\n",
      "[-1.02748728  0.9305996   0.91950587  0.20014568]\n",
      "[-0.9425878   1.09493065  0.96277513  0.21030679]\n",
      "[-1.14293967  0.97732015  1.06207281  0.26303911]\n",
      "[-1.08780406  0.84598905  1.06695316  0.43415723]\n",
      "[-1.00200264  1.13807947  0.90095985  0.38373064]\n",
      "[-1.06121351  0.89693575  0.87078698  0.42201311]\n",
      "[-1.13032411  0.80925101  1.35012339  0.18214601]\n",
      "[-1.03706787  0.93178459  0.93347664  0.54978037]\n",
      "[-1.0372291   0.96869996  1.1100413   0.14739719]\n",
      "[-0.95258194  1.02706207  0.75347267  0.37499985]\n",
      "[-1.00986301  0.93523839  1.06503112  0.37650014]\n",
      "[-0.96236168  0.96341888  1.06324146  0.10108957]\n",
      "[-0.91932755  1.0404682   0.96835448  0.12013199]\n",
      "[-1.02418828  0.899962    0.98711048  0.35970261]\n",
      "[-0.96222133  1.01928301  0.88858209  0.34783622]\n",
      "[-0.94296996  1.01693463  1.15612965  0.19080772]\n",
      "[-1.02022993  1.15304018  0.69809062  0.37374072]\n",
      "[-0.94260285  1.03426947  1.07262143  0.22065411]\n",
      "[-1.02297515  0.90618021  0.97303934  0.33154402]\n",
      "[-1.06662837  0.93199845  0.8689922   0.33941989]\n",
      "[-0.86117306  0.91034253  1.07829889  0.22832562]\n",
      "[-0.98296569  0.97265238  0.84274484  0.57170973]\n",
      "[-1.08642737  1.03730008  1.07229632  0.28191626]\n",
      "[-0.94037425  1.09377613  0.88366874  0.26385586]\n",
      "[-1.00266249  1.07896483  0.94831191  0.23650111]\n",
      "[-1.03663201  0.96254718  0.97200353  0.08049303]\n",
      "[-0.9863463   1.12896673  1.08590962  0.28313338]\n",
      "[-0.93874099  1.09991107  0.84676841  0.22827455]\n",
      "[-0.99834881  1.05319759  0.86434081  0.16943188]\n",
      "[-0.88825967  1.06797233  0.93759465  0.45237288]\n",
      "[-0.95639402  0.95138847  0.74514526  0.33715363]\n",
      "[-0.91119514  1.02649854  0.92308893  0.13109442]\n",
      "[-1.22376016  0.91537654  1.09714916  0.18983916]\n",
      "[-0.89516062  1.09468612  0.99441627  0.26005813]\n",
      "[-1.0169469   0.90009587  0.82881897  0.34272141]\n",
      "[-1.09525686  0.98063246  1.00620288  0.23993535]\n",
      "[-0.9532624   0.85147963  1.00738708  0.30549718]\n",
      "[-1.00605984  0.87648554  0.90447263  0.32581744]\n",
      "[-1.04539679  0.99448336  0.94644787  0.25858486]\n",
      "[-0.99216409  0.98033307  0.84413519  0.21720985]\n",
      "[-0.96071062  0.96903846  1.01451283  0.12040011]\n",
      "[-1.09074011  0.88426191  1.12743235  0.36388879]\n",
      "[-0.95281242  1.02957832  0.95121493  0.35054332]\n",
      "[-1.0194823   1.04974779  1.00163732  0.13092882]\n",
      "[-1.16516801  1.17467069  1.15140099  0.21976302]\n",
      "[-1.01027905  0.92048404  1.10164016  0.40116856]\n",
      "[-0.93984922  0.88424714  1.07653348  0.17836952]\n",
      "[-0.9646568   0.97184669  0.87528606  0.59128326]\n",
      "[-0.96656278  0.94116377  0.87958983  0.3975982 ]\n",
      "[-1.00555472  0.91552026  0.86920326  0.37832522]\n",
      "[-0.91708725  0.9810451   1.16305561  0.26604116]\n",
      "[-1.01981178  1.14917147  1.12134219  0.30272156]\n",
      "[-1.12046144  1.02200433  1.07722786  0.35511175]\n",
      "[-0.99033669  1.03206389  0.98704075  0.23155633]\n",
      "[-0.96641308  0.96382928  0.82356958  0.4271778 ]\n",
      "[-0.97196891  0.93544308  0.93835447  0.22131178]\n",
      "[-0.99610418  1.12926583  1.09392277  0.17450152]\n",
      "[-0.97416235  1.09084714  0.67709554  0.37936351]\n",
      "[-0.83641512  1.02428741  1.02593219  0.35593171]\n",
      "[-0.94039018  0.96657305  0.83960191  0.12086355]\n",
      "[-1.04232363  1.02056254  1.12330226  0.15809447]\n",
      "[-1.02741581  1.07726378  0.94751526  0.14644253]\n",
      "[-0.8807467   0.88683539  0.92410617  0.2977822 ]\n",
      "[-1.06515488  1.02850745  0.87959983  0.35107128]\n",
      "[-1.06684343  0.96480311  0.8722768   0.50451351]\n",
      "[-0.98911209  0.88696377  1.01013876  0.18275443]\n",
      "[-0.97085331  0.87811793  0.90509823  0.20606006]\n",
      "[-1.07856083  1.03703586  0.98818288  0.18819448]\n",
      "[-1.1872328   0.96777396  0.85562074  0.22553919]\n",
      "[-0.9471135   1.03282261  0.87537995  0.37240202]\n",
      "[-1.01616551  0.88824329  1.1194422   0.25184525]\n",
      "[-0.97075176  0.88279039  1.14453716  0.20685352]\n",
      "[-0.9720122   1.00028871  0.89970888  0.21365433]\n",
      "[-0.98445013  0.92841585  0.82498977  0.35123818]\n",
      "[-0.9876392   1.01066068  1.04856135  0.14455565]\n",
      "[-1.0144183   1.07776656  1.04996497  0.14649135]\n",
      "[-0.99320047  0.95824098  0.8647413   0.2697524 ]\n",
      "[-1.01679762  1.04166281  1.00129576  0.26387347]\n",
      "[-0.88143646  1.02412656  0.93305584  0.30849333]\n",
      "[-1.06586031  0.93769024  1.08666293  0.22683487]\n",
      "[-0.95954012  1.03329363  0.9549633   0.31195289]\n",
      "[-0.78393054  0.81330293  0.86944803  0.23881762]\n",
      "[-0.99206379  0.98919933  1.03007354  0.28892227]\n",
      "[-0.98143642  1.0767027   0.92196961  0.22316927]\n",
      "[-0.93053069  0.97266617  0.88447251  0.25353495]\n",
      "[-1.04620762  1.02930531  0.95126802  0.34656182]\n",
      "[-1.03488024  0.9094685   0.98920914  0.30894263]\n",
      "[-0.98097503  0.93228027  0.91884386  0.17770002]\n",
      "[-0.99760098  1.02198532  0.96460094  0.16506263]\n",
      "[-0.90086137  0.94714942  1.15632226  0.33606412]\n",
      "[-0.97522945  1.09047514  0.88193264  0.2267677 ]\n",
      "[-1.02679214  0.9838967   0.89970277  0.26824508]\n",
      "[-0.97139096  0.97129729  1.02564759  0.31305419]\n",
      "[-0.89584808  1.06192408  1.0378582   0.2922617 ]\n",
      "[-0.9117489   1.09858504  1.1565966   0.17231006]\n",
      "[-1.04573789  0.93577826  1.10705948  0.14919512]\n",
      "[-0.98151881  0.97189493  0.99698024  0.20849576]\n",
      "[-1.03586659  0.9789421   1.08434839  0.18177715]\n",
      "[-1.07838416  1.04101054  0.98937914  0.42576193]\n",
      "[-0.92604065  0.90989447  0.94904472  0.25924035]\n",
      "[-0.96704884  0.99492139  1.13292818  0.2354312 ]\n",
      "[-0.92960208  0.97290394  1.27851394  0.1913107 ]\n",
      "[-0.94375669  0.89370211  0.796396    0.21621155]\n",
      "[-0.96590403  0.99390593  1.02167837  0.28442533]\n",
      "[-1.03259638  1.15283709  0.86722076  0.16824839]\n",
      "[-0.95447799  1.01883366  0.94845477  0.40886706]\n",
      "[-0.8507314   0.98725589  0.9308486   0.23601023]\n",
      "[-0.99080052  1.00599971  0.96638911  0.15536591]\n",
      "[-0.97206441  1.01561656  0.98863808  0.27076334]\n",
      "[-1.02351871  0.98235017  1.09537328  0.13533267]\n",
      "[-0.98880753  0.9885759   0.85849131  0.1475377 ]\n",
      "[-1.06584182  1.0423212   1.06623522  0.23941091]\n",
      "[-0.9318673   1.11792057  1.06745369  0.17982986]\n",
      "[-0.90157079  1.01787402  0.95376844  0.29539774]\n",
      "[-1.00247555  0.92190105  0.94943741  0.34439898]\n",
      "[-1.10570014  1.0296923   1.03534853  0.15441936]\n",
      "[-0.88083906  0.99821465  0.98720275  0.47172887]\n",
      "[-1.04230148  0.89068662  0.98976265  0.15674553]\n",
      "[-1.00973126  1.17710788  1.0553643   0.29522516]\n",
      "[-1.07675887  0.91508474  0.93072086  0.10752248]\n",
      "[-1.12346174  1.01055831  0.85602161  0.36113758]\n",
      "[-1.03621307  0.83062826  1.02408006  0.24073291]\n",
      "[-0.9318556   1.04167588  0.96878046  0.29389148]\n",
      "[-1.1095392   0.97112989  1.18558572  0.14945263]\n",
      "[-1.00032891  0.90656473  1.10195492  0.23692436]\n",
      "[-0.9167124   0.92285254  0.97151755  0.11559453]\n",
      "[-0.92007553  0.78253659  1.00102835  0.21961572]\n",
      "[-1.04691221  0.98668916  1.28159623  0.23167802]\n",
      "[-0.90626879  0.92706605  0.92834149  0.29732448]\n",
      "[-0.90667803  0.92899189  1.04197226  0.20474643]\n",
      "[-0.99043223  0.88370672  1.07580712  0.47543016]\n",
      "[-1.05334519  1.05560722  0.67865061  0.25044969]\n",
      "[-0.94232876  1.07602061  0.87091905  0.42763381]\n",
      "[-1.19607244  1.04772195  0.97429318  0.15181527]\n",
      "[-0.98457695  0.92659188  0.97472525  0.12915715]\n",
      "[-1.1912623   1.08059385  1.14077773  0.18889537]\n",
      "[-1.01648355  1.04057038  1.11271637  0.21501226]\n",
      "[-1.01790067  0.9275241   0.95191857  0.1827592 ]\n",
      "[-1.07322799  0.86609672  0.83227952  0.59481947]\n",
      "[-1.00521643  0.88529091  1.00076146  0.09740675]\n",
      "[-1.06092752  1.12215908  1.06784028  0.43580433]\n",
      "[-1.07793304  1.11437913  1.06080333  0.13213897]\n",
      "[-1.01158406  1.01147132  0.87339949  0.49841527]\n",
      "[-0.98893871  0.97682992  1.10222026  0.17083081]\n",
      "[-1.06002145  1.12539642  1.00117159  0.29825183]\n",
      "[-1.07429632  1.01765406  0.915371    0.18457229]\n",
      "[-1.0353275   0.98533732  1.07729143  0.28280443]\n",
      "[-0.94523676  1.06223581  0.90662739  0.19708077]\n",
      "[-1.05144304  1.00440738  1.12824373  0.16110903]\n"
     ]
    }
   ],
   "source": [
    "import numpy as np\n",
    "\n",
    "I = 100\n",
    "J = 2\n",
    "beta_0 = -1\n",
    "beta_1 = 1\n",
    "sigma_u = 0.5\n",
    "sigma_eps = 1\n",
    "iteration = 30\n",
    "initial = [0, 0, 5, 5]\n",
    "result = np.empty((500, 4))\n",
    "\n",
    "def xE(E_t):\n",
    "    return sum(sum(value_x * np.array([E_t, E_t]).T))\n",
    "\n",
    "def eps_right(E_t, beta0, beta1):\n",
    "    return (sum(sum((value_y - beta0-beta1*value_x)**2)) + J * sum(E_t**2) - 2*sum(sum((value_y - beta0 - beta1*value_x) * np.array([E_t, E_t]).T)))/(I*J)\n",
    "\n",
    "for i in range(500):\n",
    "    \n",
    "    # data generation\n",
    "    np.random.seed(i)\n",
    "    value_x = np.random.normal(0, 1, (I, J))\n",
    "    u = np.random.normal(0, sigma_u, I)\n",
    "    value_u = np.ones((I, J))\n",
    "    value_u[:, 0] = u\n",
    "    value_u[:, 1] = u\n",
    "    value_eps = np.random.normal(0, sigma_eps, (I, J))\n",
    "    value_y = beta_0 + beta_1 * value_x + value_u + value_eps\n",
    "\n",
    "    XY = sum(sum(value_y * value_x))\n",
    "    X = sum(sum(value_x))\n",
    "    Y = sum(sum(value_y))\n",
    "    X_2 = sum(sum(value_x * value_x))\n",
    "\n",
    "    # estimation\n",
    "    E_t = np.ones(I)\n",
    "    estimation = np.ones((iteration, 4))\n",
    "    estimation[0, :] = initial\n",
    "\n",
    "    for ite in range(1,iteration):\n",
    "        u = estimation[ite-1, 3]\n",
    "        eps = estimation[ite-1, 2]\n",
    "        beta0 = estimation[ite-1, 0]\n",
    "        beta1 = estimation[ite-1, 1]\n",
    "        for i in range(I):\n",
    "            E_t[i] = u*sum([value_y[i, j] - beta0 - beta1*value_x[i, j] for j in range(J)]) / (J*u + eps)\n",
    "        V_t = eps*u/(J*u + eps)\n",
    "        estimation[ite, 1] = (I*J *XY - Y*X - J * (I*xE(E_t) - sum(E_t)*X))/(I*J*X_2 - X**2)\n",
    "        estimation[ite, 0] = (Y-beta1*X - J* sum(E_t))/(I*J)\n",
    "        estimation[ite, 2] = V_t + eps_right(E_t, estimation[ite-1, 0], estimation[ite-1, 1])\n",
    "        estimation[ite, 3] = V_t + sum(E_t**2)/I\n",
    "    \n",
    "    result[i, :] = estimation[iteration-1, :]"
   ]
  },
  {
   "cell_type": "code",
   "execution_count": 25,
   "metadata": {
    "collapsed": false
   },
   "outputs": [
    {
     "data": {
      "text/plain": [
       "array([[  0.00000000e+000,   0.00000000e+000,   2.13523201e-314,\n",
       "          2.13522772e-314],\n",
       "       [  1.90979621e-313,   2.13521631e-314,   2.14849288e-314,\n",
       "          2.12199579e-314],\n",
       "       [  3.39519327e-313,   1.48219694e-323,   2.13522777e-314,\n",
       "          2.13522779e-314],\n",
       "       ..., \n",
       "       [  3.33543786e-309,   1.90979729e-311,   8.94201569e-307,\n",
       "          5.10430385e-308],\n",
       "       [  1.92336538e-311,   3.33543786e-309,   1.93101731e-311,\n",
       "          2.10230367e-309],\n",
       "       [  1.93950601e-311,   2.14032983e-308,   1.94908629e-311,\n",
       "          3.69071045e+019]])"
      ]
     },
     "execution_count": 25,
     "metadata": {},
     "output_type": "execute_result"
    }
   ],
   "source": [
    "result"
   ]
  },
  {
   "cell_type": "code",
   "execution_count": 16,
   "metadata": {
    "collapsed": true
   },
   "outputs": [],
   "source": [
    "result[10, :] = estimation[29, :]"
   ]
  },
  {
   "cell_type": "code",
   "execution_count": 17,
   "metadata": {
    "collapsed": false
   },
   "outputs": [
    {
     "data": {
      "text/plain": [
       "array([[ 1.,  1.,  1.,  1.],\n",
       "       [ 1.,  1.,  1.,  1.],\n",
       "       [ 1.,  1.,  1.,  1.],\n",
       "       ..., \n",
       "       [ 1.,  1.,  1.,  1.],\n",
       "       [ 1.,  1.,  1.,  1.],\n",
       "       [ 1.,  1.,  1.,  1.]])"
      ]
     },
     "execution_count": 17,
     "metadata": {},
     "output_type": "execute_result"
    }
   ],
   "source": [
    "result"
   ]
  },
  {
   "cell_type": "code",
   "execution_count": 20,
   "metadata": {
    "collapsed": false
   },
   "outputs": [
    {
     "data": {
      "text/plain": [
       "array([[1, 2],\n",
       "       [3, 4]])"
      ]
     },
     "execution_count": 20,
     "metadata": {},
     "output_type": "execute_result"
    }
   ],
   "source": [
    "a = np.array([[1,2], [3,4]])\n",
    "a"
   ]
  },
  {
   "cell_type": "code",
   "execution_count": 21,
   "metadata": {
    "collapsed": false
   },
   "outputs": [
    {
     "data": {
      "text/plain": [
       "array([[5, 6],\n",
       "       [3, 4]])"
      ]
     },
     "execution_count": 21,
     "metadata": {},
     "output_type": "execute_result"
    }
   ],
   "source": [
    "a[0, :] = [5,6]\n",
    "a"
   ]
  },
  {
   "cell_type": "code",
   "execution_count": 23,
   "metadata": {
    "collapsed": false
   },
   "outputs": [
    {
     "data": {
      "text/plain": [
       "array([[ 0.,  0.,  0.],\n",
       "       [ 1.,  2.,  3.]])"
      ]
     },
     "execution_count": 23,
     "metadata": {},
     "output_type": "execute_result"
    }
   ],
   "source": [
    "a = np.empty((2,3))\n",
    "a[1, :] = [1,2,3]\n",
    "a"
   ]
  },
  {
   "cell_type": "code",
   "execution_count": null,
   "metadata": {
    "collapsed": true
   },
   "outputs": [],
   "source": []
  }
 ],
 "metadata": {
  "kernelspec": {
   "display_name": "Python 3",
   "language": "python",
   "name": "python3"
  },
  "language_info": {
   "codemirror_mode": {
    "name": "ipython",
    "version": 3
   },
   "file_extension": ".py",
   "mimetype": "text/x-python",
   "name": "python",
   "nbconvert_exporter": "python",
   "pygments_lexer": "ipython3",
   "version": "3.5.1"
  }
 },
 "nbformat": 4,
 "nbformat_minor": 0
}
